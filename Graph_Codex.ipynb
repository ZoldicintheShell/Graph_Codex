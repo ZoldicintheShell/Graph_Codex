{
  "nbformat": 4,
  "nbformat_minor": 0,
  "metadata": {
    "colab": {
      "provenance": [],
      "name": "Graph_Codex.ipynb",
      "collapsed_sections": [
        "-E9wyEGsOyzC",
        "Q6sLq1YsPIfl",
        "B6THTHAYOGRR"
      ]
    },
    "kernelspec": {
      "name": "python3",
      "display_name": "Python 3"
    },
    "language_info": {
      "name": "python"
    }
  },
  "cells": [
    {
      "cell_type": "code",
      "source": [
        "!pip install 'scipy>=1.8'"
      ],
      "metadata": {
        "colab": {
          "base_uri": "https://localhost:8080/"
        },
        "id": "iMvCJU4AOYuH",
        "outputId": "bd295c14-48c8-419c-ffc5-084340088223"
      },
      "execution_count": 2,
      "outputs": [
        {
          "output_type": "stream",
          "name": "stdout",
          "text": [
            "Looking in indexes: https://pypi.org/simple, https://us-python.pkg.dev/colab-wheels/public/simple/\n",
            "Collecting scipy>=1.8\n",
            "  Downloading scipy-1.10.0-cp38-cp38-manylinux_2_17_x86_64.manylinux2014_x86_64.whl (34.5 MB)\n",
            "\u001b[2K     \u001b[90m━━━━━━━━━━━━━━━━━━━━━━━━━━━━━━━━━━━━━━━━\u001b[0m \u001b[32m34.5/34.5 MB\u001b[0m \u001b[31m19.4 MB/s\u001b[0m eta \u001b[36m0:00:00\u001b[0m\n",
            "\u001b[?25hRequirement already satisfied: numpy<1.27.0,>=1.19.5 in /usr/local/lib/python3.8/dist-packages (from scipy>=1.8) (1.21.6)\n",
            "Installing collected packages: scipy\n",
            "  Attempting uninstall: scipy\n",
            "    Found existing installation: scipy 1.7.3\n",
            "    Uninstalling scipy-1.7.3:\n",
            "      Successfully uninstalled scipy-1.7.3\n",
            "Successfully installed scipy-1.10.0\n"
          ]
        }
      ]
    },
    {
      "cell_type": "code",
      "source": [
        "!pip install 'networkx<2.7'"
      ],
      "metadata": {
        "colab": {
          "base_uri": "https://localhost:8080/"
        },
        "id": "AmozXRwSOVdM",
        "outputId": "a5596c9e-f1ad-4e17-bae2-2ca89d46a2cd"
      },
      "execution_count": 3,
      "outputs": [
        {
          "output_type": "stream",
          "name": "stdout",
          "text": [
            "Looking in indexes: https://pypi.org/simple, https://us-python.pkg.dev/colab-wheels/public/simple/\n",
            "Collecting networkx<2.7\n",
            "  Downloading networkx-2.6.3-py3-none-any.whl (1.9 MB)\n",
            "\u001b[2K     \u001b[90m━━━━━━━━━━━━━━━━━━━━━━━━━━━━━━━━━━━━━━━━\u001b[0m \u001b[32m1.9/1.9 MB\u001b[0m \u001b[31m26.9 MB/s\u001b[0m eta \u001b[36m0:00:00\u001b[0m\n",
            "\u001b[?25hInstalling collected packages: networkx\n",
            "  Attempting uninstall: networkx\n",
            "    Found existing installation: networkx 3.0\n",
            "    Uninstalling networkx-3.0:\n",
            "      Successfully uninstalled networkx-3.0\n",
            "Successfully installed networkx-2.6.3\n"
          ]
        }
      ]
    },
    {
      "cell_type": "code",
      "execution_count": 2,
      "metadata": {
        "id": "PWLgrIJwOUFd"
      },
      "outputs": [],
      "source": [
        "import networkx as nx\n",
        "import matplotlib.pyplot as plt\n",
        "import numpy as np"
      ]
    },
    {
      "cell_type": "markdown",
      "source": [
        "# Fonctions"
      ],
      "metadata": {
        "id": "-E9wyEGsOyzC"
      }
    },
    {
      "cell_type": "code",
      "source": [
        "import numpy as np\n",
        "import networkx as nx\n",
        "\n",
        "def calculate_spring_matrix(masses, spring_constants):\n",
        "    # Create the graph\n",
        "    G = nx.Graph()\n",
        "\n",
        "    # Add nodes with names and values\n",
        "    for i, m in enumerate(masses):\n",
        "        node_name = chr(ord('A') + i)\n",
        "        G.add_node(node_name, value=m)\n",
        "\n",
        "    # Add edges with different values\n",
        "    for n1, n2, k in spring_constants:\n",
        "        G.add_edge(n1, n2, value=k)\n",
        "        G.add_edge(n2, n1, value=k)\n",
        "\n",
        "    # Create a dictionary to map node labels to indices in the matrix\n",
        "    node_map = {n: i for i, n in enumerate(G.nodes())}\n",
        "\n",
        "    # Create the adjacency matrix with zeros\n",
        "    adj_matrix = np.zeros((len(G), len(G)))\n",
        "\n",
        "    # Fill in the adjacency matrix with the spring constants\n",
        "    for n1, n2, d in G.edges(data=True):\n",
        "        i = node_map[n1]\n",
        "        j = node_map[n2]\n",
        "        adj_matrix[i][j] = d['value']\n",
        "        adj_matrix[j][i] = d['value']\n",
        "\n",
        "    return adj_matrix, G\n"
      ],
      "metadata": {
        "id": "CD3hsb42yzMC"
      },
      "execution_count": 3,
      "outputs": []
    },
    {
      "cell_type": "code",
      "source": [
        "import numpy as np\n",
        "\n",
        "# Fonction pour obtenir la matrice d'équation du mouvemement à partir du graphe\n",
        "def compute_A(adj_matrix, masses, spring_constants):\n",
        "    n = len(adj_matrix)  # Number of nodes\n",
        "    A = np.zeros((n, n))\n",
        "    for i in range(n):\n",
        "        for j in range(n):\n",
        "            if adj_matrix[i,j] != 0:  # If nodes i and j are connected\n",
        "                A[i,i] += spring_constants[i,j]\n",
        "                A[i,j] = -spring_constants[i,j]\n",
        "    for i in range(n):\n",
        "        A[i,i] += np.sum(spring_constants[i,:] + spring_constants[:,i])\n",
        "    return A"
      ],
      "metadata": {
        "id": "Mx3SduKhOyVo"
      },
      "execution_count": 4,
      "outputs": []
    },
    {
      "cell_type": "code",
      "source": [
        "import numpy as np\n",
        "\n",
        "# Fonction pour obtenir la position à l'équilibre\n",
        "def find_equilibrium(adj_matrix, masses, spring_constants, gravity=0):\n",
        "    n = len(adj_matrix)  # Number of nodes\n",
        "    A = compute_A(adj_matrix, masses, spring_constants)\n",
        "    b = np.zeros(n)\n",
        "    x = np.zeros(n)  # Define x to be an array of zeros\n",
        "    for i in range(n):\n",
        "        for j in range(n):\n",
        "            if adj_matrix[i,j] != 0:  # If nodes i and j are connected\n",
        "                b[i] -= spring_constants[i,j] * (0 - x[j])\n",
        "        b[i] -= masses[i] * gravity\n",
        "    x = np.linalg.solve(A, b)\n",
        "    return x"
      ],
      "metadata": {
        "id": "PVXlfkLKO-6C"
      },
      "execution_count": 5,
      "outputs": []
    },
    {
      "cell_type": "code",
      "source": [
        "import networkx as nx\n",
        "import matplotlib.pyplot as plt\n",
        "\n",
        "def draw_graph(adj_matrix, node_names, masses, spring_constants):\n",
        "    # Create a graph object from the adjacency matrix\n",
        "    G = nx.from_numpy_array(adj_matrix)\n",
        "\n",
        "    # Set the node attributes to the masses, degree, and name\n",
        "    node_masses = {i: m for i, m in enumerate(masses)}\n",
        "    node_degrees = {i: np.sum(adj_matrix[i,:]) for i in range(len(adj_matrix))}\n",
        "    node_names_dict = {i: node_names[i] for i in range(len(node_names))}\n",
        "    nx.set_node_attributes(G, node_masses, 'mass')\n",
        "    nx.set_node_attributes(G, node_degrees, 'degree')\n",
        "    nx.set_node_attributes(G, node_names_dict, 'name')\n",
        "\n",
        "    # Set the edge attributes to the spring constants\n",
        "    edge_spring_constants = {}\n",
        "    for i in range(len(adj_matrix)):\n",
        "        for j in range(len(adj_matrix)):\n",
        "            if adj_matrix[i,j] == 1:\n",
        "                edge_spring_constants[(i,j)] = spring_constants[i,j]\n",
        "    nx.set_edge_attributes(G, edge_spring_constants, 'spring_constant')\n",
        "\n",
        "    # Compute the node sizes as a function of the node degrees\n",
        "    node_sizes = [1000 * node_degrees[i] for i in range(len(adj_matrix))]\n",
        "\n",
        "    # Draw the graph with node masses, names, and spring constants as labels\n",
        "    pos = nx.spring_layout(G)\n",
        "    node_labels = {i: node_names[i] for i in range(len(node_names))}\n",
        "    edge_labels = {(i,j): 'k={}'.format(k) for (i,j), k in edge_spring_constants.items()}\n",
        "    nx.draw(G, pos, node_size=node_sizes, labels=node_labels)\n",
        "    nx.draw_networkx_edge_labels(G, pos, edge_labels=edge_labels)\n",
        "    plt.show()\n"
      ],
      "metadata": {
        "id": "AU6euJm4PIm2"
      },
      "execution_count": 6,
      "outputs": []
    },
    {
      "cell_type": "code",
      "source": [
        "def calculate_frequencies(A):\n",
        "    # Compute the eigenvalues of A\n",
        "    eigenvalues = np.linalg.eigvals(A)\n",
        "\n",
        "    # Compute the frequencies of the normal modes\n",
        "    frequencies = np.sqrt(np.abs(eigenvalues))\n",
        "\n",
        "    # Sort the frequencies in ascending order\n",
        "    frequencies = np.sort(frequencies)\n",
        "    \n",
        "    return frequencies"
      ],
      "metadata": {
        "id": "3GEEOoBudD8P"
      },
      "execution_count": 7,
      "outputs": []
    },
    {
      "cell_type": "code",
      "source": [
        "#------PERFORM QUICK ALGEBRAIC ANALYSIS------#\n",
        "import numpy as np\n",
        "def analyze_matrix(matrix):\n",
        "    # Convert the matrix to a NumPy array\n",
        "    arr = np.array(matrix)\n",
        "\n",
        "    # Calculate the transpose of the matrix\n",
        "    transpose = arr.T\n",
        "\n",
        "    # Calculate the determinant of the matrix\n",
        "    determinant = np.linalg.det(arr)\n",
        "\n",
        "    # Calculate the inverse of the matrix\n",
        "    try:\n",
        "        inverse = np.linalg.inv(arr)\n",
        "    except np.linalg.LinAlgError:\n",
        "        inverse = None\n",
        "\n",
        "    # Calculate the eigenvalues and eigenvectors of the matrix\n",
        "    eigenvalues, eigenvectors = np.linalg.eig(arr)\n",
        "\n",
        "    # Create a dictionary to store the results\n",
        "    results = {\n",
        "        'transpose': transpose.tolist(),\n",
        "        'determinant': determinant,\n",
        "        'inverse': inverse.tolist() if inverse is not None else None,\n",
        "        'eigenvalues': eigenvalues.tolist(),\n",
        "        'eigenvectors': eigenvectors.tolist()\n",
        "    }\n",
        "    print(f\"Transpose:\\n{results['transpose']}\")\n",
        "    print(f\"Determinant: {results['determinant']}\")\n",
        "    print(f\"Inverse:\\n{results['inverse']}\")\n",
        "    print(f\"Eigenvalues: {results['eigenvalues']}\")\n",
        "    print(f\"Eigenvectors:\\n{results['eigenvectors']}\")\n",
        "    return results"
      ],
      "metadata": {
        "id": "842mPDiZjJi0"
      },
      "execution_count": 8,
      "outputs": []
    },
    {
      "cell_type": "code",
      "source": [
        "#------PERFORM QUICK GRAPH ANALYSIS------#\n",
        "\n",
        "import networkx as nx\n",
        "def analyze_graph(graph):\n",
        "    # Get the number of nodes in the graph\n",
        "    num_nodes = graph.number_of_nodes()\n",
        "\n",
        "    # Get the number of edges in the graph\n",
        "    num_edges = graph.number_of_edges()\n",
        "\n",
        "    # Get the degree centrality of each node\n",
        "    degree_centrality = nx.degree_centrality(graph)\n",
        "\n",
        "    # Get the betweenness centrality of each node\n",
        "    betweenness_centrality = nx.betweenness_centrality(graph)\n",
        "\n",
        "    # Get the eigenvector centrality of each node\n",
        "    eigenvector_centrality = nx.eigenvector_centrality(graph)\n",
        "\n",
        "    # Get the clustering coefficient of each node\n",
        "    clustering_coefficient = nx.clustering(graph)\n",
        "\n",
        "    # Create a dictionary to store the results\n",
        "    results = {\n",
        "        'num_nodes': num_nodes,\n",
        "        'num_edges': num_edges,\n",
        "        'degree_centrality': degree_centrality,\n",
        "        'betweenness_centrality': betweenness_centrality,\n",
        "        'eigenvector_centrality': eigenvector_centrality,\n",
        "        'clustering_coefficient': clustering_coefficient\n",
        "    }\n",
        "\n",
        "    print(f\"Number of nodes: {results['num_nodes']}\")\n",
        "    print(f\"Number of edges: {results['num_edges']}\")\n",
        "    print(f\"Degree centrality: {results['degree_centrality']}\")\n",
        "    print(f\"Betweenness centrality: {results['betweenness_centrality']}\")\n",
        "    print(f\"Eigenvector centrality: {results['eigenvector_centrality']}\")\n",
        "    print(f\"Clustering coefficient: {results['clustering_coefficient']}\")\n",
        "    return results\n"
      ],
      "metadata": {
        "id": "OWmcydoJkFP0"
      },
      "execution_count": 9,
      "outputs": []
    },
    {
      "cell_type": "code",
      "source": [
        "import networkx as nx\n",
        "\n",
        "def matrix_to_graph(matrix):\n",
        "    # Create an empty graph\n",
        "    graph = nx.Graph()\n",
        "\n",
        "    # Get the number of rows and columns in the matrix\n",
        "    rows = len(matrix)\n",
        "    cols = len(matrix[0])\n",
        "\n",
        "    # Add nodes to the graph\n",
        "    for i in range(rows):\n",
        "        for j in range(cols):\n",
        "            node = f\"{i}{j}\"\n",
        "            graph.add_node(node)\n",
        "\n",
        "    # Add edges to the graph\n",
        "    for i in range(rows):\n",
        "        for j in range(cols):\n",
        "            node1 = f\"{i}{j}\"\n",
        "            if j < cols - 1:\n",
        "                node2 = f\"{i}{j+1}\"\n",
        "                weight = matrix[i][j+1]\n",
        "                graph.add_edge(node1, node2, weight=weight)\n",
        "            if i < rows - 1:\n",
        "                node3 = f\"{i+1}{j}\"\n",
        "                weight = matrix[i+1][j]\n",
        "                graph.add_edge(node1, node3, weight=weight)\n",
        "\n",
        "    return graph\n"
      ],
      "metadata": {
        "id": "T9g_Ql3NkkPY"
      },
      "execution_count": 10,
      "outputs": []
    },
    {
      "cell_type": "markdown",
      "source": [
        "# Code"
      ],
      "metadata": {
        "id": "xV930NCLO0fG"
      }
    },
    {
      "cell_type": "markdown",
      "source": [
        "```\n",
        "- Define 1: Create the graph\n",
        "- Define 2: the masses of the nodes\n",
        "- Define 3: nodes names\n",
        "- Define 4: the spring values\n",
        "- Define 5: the equilibrium positions of the fixed nodes\n",
        "- Define 6: the constant Forces applied on the system (exemple: pestel)\n",
        "- Define 7: Initial position of the system\n",
        "- Step 1: Perform Quick Graph analysis\n",
        "- Step 2: Get the adjacency matrix\n",
        "- Step 3: Get the incidence matrix\n",
        "- Step 4: Show the graph\n",
        "- Step 5: Get the Matrix of the system\n",
        "- Step 6: Perform quick analysis of the matrix\n",
        "- Step 7: Compute the eigenvalues and eigenvectors of A\n",
        "- Step 8: Calculate équilibrium positions\n",
        "- Step 9: Calculate oscillation frequencies\n",
        "```\n",
        "\n"
      ],
      "metadata": {
        "id": "1KOKUqqEqMMi"
      }
    },
    {
      "cell_type": "code",
      "source": [
        "# Define 1: Create the graph\n",
        "G = nx.Graph()\n",
        "G.add_nodes_from(['A', 'B', 'C', 'D', 'E']) # Add nodes\n",
        "G.add_edges_from([('A', 'B'), ('A', 'C'), ('B', 'C'), ('B', 'D'), ('C', 'D'), ('C', 'E'), ('D', 'E')]) # Add edges\n",
        "\n",
        "\n",
        "# Define 2: the masses of the nodes\n",
        "m_A = 1\n",
        "m_B = 2\n",
        "m_C = 3\n",
        "m_D = 4\n",
        "m_E = 0  # Assume that node E is fixed\n",
        "masses = np.array([m_A, m_B, m_C, m_D, m_E])\n",
        "\n",
        "# Define 3: nodes names\n",
        "node_names = ['A', 'B', 'C', 'D', 'E']\n",
        "\n",
        "# Define 4: the springs values\n",
        "k_AB = k_BA = 2\n",
        "k_AC = k_CA = 1\n",
        "k_BC = k_CB = 3\n",
        "k_CD = k_DC = 1\n",
        "k_DE = k_ED = 1\n",
        "k_BD = k_DB = 1\n",
        "k_CE = k_EC = 1\n",
        "\n",
        "springs_values = np.array([    \n",
        "    [0   , k_BA, k_AC, 0   , 0   ],\n",
        "    [k_AB, 0   , k_CB, k_DB, 0   ],\n",
        "    [k_AC, k_BC, 0   , k_DC, k_EC],\n",
        "    [0   , k_BC, k_DB, 0   , k_ED],\n",
        "    [0   , 0   , k_CE, k_DE, 0   ]\n",
        "])\n",
        "\n",
        "\n",
        "# Define 5: the equilibrium positions of the fixed nodes\n",
        "x_E = 0\n",
        "\n",
        "# Define 6: the constant Forces applied on the system (exemple: pestel)\n",
        "gravity = 9.8\n",
        "\n",
        "\n",
        "# Define 7: Initial position of the system\n",
        "initial_positions = pos = nx.spring_layout(G)\n",
        "\n",
        "# Step 1: Perform Quick Graph analysis\n",
        "analyze_graph(G)\n",
        "\n",
        "# Step 2: Get the adjacency matrix\n",
        "adj_matrix = nx.adjacency_matrix(G).toarray()\n",
        "print('Adjacency Matrix:\\n', adj_matrix)\n",
        "\n",
        "# Step 3: Get the incidence matrix\n",
        "inc_matrix = nx.incidence_matrix(G, oriented=True).toarray()\n",
        "print('Incidence Matrix:\\n', inc_matrix)\n",
        "\n",
        "# Step 4: Show the graph\n",
        "draw_graph(adj_matrix, node_names, masses, springs_values)\n",
        "\n",
        "\n",
        "# Step 5: Get the Matrice of the system\n",
        "A = compute_A(adj_matrix, masses, springs_values)\n",
        "print(\"\\n----System Matrix----\")\n",
        "print(A)\n",
        "\n",
        "# Step 6: Perform quick analysis of the matrix\n",
        "analyze_matrix(A)\n",
        "\n",
        "# Step 7: Compute the eigenvalues and eigenvectors of A\n",
        "w, v = np.linalg.eig(A)\n",
        "print(\"\\n----Eigenvalues----\")\n",
        "print(w)\n",
        "print(\"\\n----Eigenvectors----\")\n",
        "print(v)\n",
        "\n",
        "# Step 8: Calculate equilibrium positions\n",
        "Equilibrium = find_equilibrium(adj_matrix, masses, springs_values, gravity)\n",
        "print(\"----Equilibrium----\")\n",
        "print(\"\\nEquilibrium positions:\")\n",
        "for i in range(len(Equilibrium)):\n",
        "    print(\"Edge {}: {:.2f}\".format(i+1, Equilibrium[i]))\n",
        "\n",
        "\n",
        "# Step 9: Calculate oscillation frequencies\n",
        "frequencies = calculate_frequencies(A)\n",
        "    # Print the frequencies\n",
        "print(\"\\nOscillation Frequencies:\")\n",
        "for i in range(len(frequencies)):\n",
        "    print(\"Edge {}: {:.2f}\".format(i+1, frequencies[i]))"
      ],
      "metadata": {
        "colab": {
          "base_uri": "https://localhost:8080/",
          "height": 1000
        },
        "id": "NK6adCbQOYwo",
        "outputId": "d928f673-2494-4c47-ab77-fe19257decd4"
      },
      "execution_count": 12,
      "outputs": [
        {
          "output_type": "stream",
          "name": "stdout",
          "text": [
            "Number of nodes: 5\n",
            "Number of edges: 7\n",
            "Degree centrality: {'A': 0.5, 'B': 0.75, 'C': 1.0, 'D': 0.75, 'E': 0.5}\n",
            "Betweenness centrality: {'A': 0.0, 'B': 0.08333333333333333, 'C': 0.3333333333333333, 'D': 0.08333333333333333, 'E': 0.0}\n",
            "Eigenvector centrality: {'A': 0.35054183735438676, 'B': 0.46995923844336235, 'C': 0.5590326188442775, 'D': 0.46995923844336235, 'E': 0.35054183735438676}\n",
            "Clustering coefficient: {'A': 1.0, 'B': 0.6666666666666666, 'C': 0.5, 'D': 0.6666666666666666, 'E': 1.0}\n",
            "Adjacency Matrix:\n",
            " [[0 1 1 0 0]\n",
            " [1 0 1 1 0]\n",
            " [1 1 0 1 1]\n",
            " [0 1 1 0 1]\n",
            " [0 0 1 1 0]]\n",
            "Incidence Matrix:\n",
            " [[-1. -1.  0.  0.  0.  0.  0.]\n",
            " [ 1.  0. -1. -1.  0.  0.  0.]\n",
            " [ 0.  1.  1.  0. -1. -1.  0.]\n",
            " [ 0.  0.  0.  1.  1.  0. -1.]\n",
            " [ 0.  0.  0.  0.  0.  1.  1.]]\n"
          ]
        },
        {
          "output_type": "display_data",
          "data": {
            "text/plain": [
              "<Figure size 432x288 with 1 Axes>"
            ],
            "image/png": "[encoded data removed]"
          },
          "metadata": {}
        },
        {
          "output_type": "stream",
          "name": "stdout",
          "text": [
            "\n",
            "----System Matrix----\n",
            "[[ 9. -2. -1.  0.  0.]\n",
            " [-2. 20. -3. -1.  0.]\n",
            " [-1. -3. 18. -1. -1.]\n",
            " [ 0. -3. -1. 13. -1.]\n",
            " [ 0.  0. -1. -1.  6.]]\n",
            "Transpose:\n",
            "[[9.0, -2.0, -1.0, 0.0, 0.0], [-2.0, 20.0, -3.0, -3.0, 0.0], [-1.0, -3.0, 18.0, -1.0, -1.0], [0.0, -1.0, -1.0, 13.0, -1.0], [0.0, 0.0, -1.0, -1.0, 6.0]]\n",
            "Determinant: 227855.99999999997\n",
            "Inverse:\n",
            "[[0.11499368021908572, 0.013087212976616809, 0.008768696018538025, 0.0018169370128502211, 0.0017642721718980408], [0.013025770662172599, 0.05357769819535145, 0.010076539568850502, 0.005090934625377431, 0.0025279123657046556], [0.008891580647426442, 0.010629520398848393, 0.058765185029141215, 0.006170563864897128, 0.010822624815673056], [0.003853310863001192, 0.013490976757250191, 0.007697844252510356, 0.0796731268871568, 0.014561828523277861], [0.002124148585071273, 0.0040200828593497644, 0.011077171546941928, 0.014307281792008988, 0.17089740888982516]]\n",
            "Eigenvalues: [22.330861099933024, 17.134670774912514, 12.455212747114508, 8.360736956820963, 5.718518421218961]\n",
            "Eigenvectors:\n",
            "[[-0.08539145075253106, 0.19804698963190295, 0.15170641913255645, 0.9409276082908561, 0.059064752242810624], [0.8255325675247026, -0.4449644494501949, -0.1629611665440707, 0.21736407232443608, 0.04271349218508433], [-0.51272356594564, -0.7211181597176601, -0.19825562011776776, 0.16677210163830775, 0.1083929120698807], [-0.21524814902918235, 0.4922908587545761, -0.9381533099688599, 0.1477860924240678, 0.16670371111142876], [0.04457644398052034, 0.020550881619118465, 0.17604515522661907, -0.13324576173279692, 0.9773166129471752]]\n",
            "\n",
            "----Eigenvalues----\n",
            "[22.3308611  17.13467077 12.45521275  8.36073696  5.71851842]\n",
            "\n",
            "----Eigenvectors----\n",
            "[[-0.08539145  0.19804699  0.15170642  0.94092761  0.05906475]\n",
            " [ 0.82553257 -0.44496445 -0.16296117  0.21736407  0.04271349]\n",
            " [-0.51272357 -0.72111816 -0.19825562  0.1667721   0.10839291]\n",
            " [-0.21524815  0.49229086 -0.93815331  0.14778609  0.16670371]\n",
            " [ 0.04457644  0.02055088  0.17604516 -0.13324576  0.97731661]]\n",
            "----Equilibrium----\n",
            "\n",
            "Equilibrium positions:\n",
            "Edge 1: -1.71\n",
            "Edge 2: -1.67\n",
            "Edge 3: -2.27\n",
            "Edge 4: -3.65\n",
            "Edge 5: -0.99\n",
            "\n",
            "Oscillation Frequencies:\n",
            "Edge 1: 2.39\n",
            "Edge 2: 2.89\n",
            "Edge 3: 3.53\n",
            "Edge 4: 4.14\n",
            "Edge 5: 4.73\n"
          ]
        }
      ]
    },
    {
      "cell_type": "code",
      "source": [],
      "metadata": {
        "id": "VD2SNhBZRLoQ"
      },
      "execution_count": null,
      "outputs": []
    },
    {
      "cell_type": "code",
      "source": [
        "import networkx as nx\n",
        "import matplotlib.pyplot as plt\n",
        "\n",
        "# Create a directed graph with 5 nodes\n",
        "graph = nx.DiGraph()\n",
        "graph.add_nodes_from(['A', 'B', 'C', 'D', 'E'])\n",
        "\n",
        "# Add weighted edges to the graph\n",
        "graph.add_edge('A', 'B', weight=2)\n",
        "graph.add_edge('A', 'C', weight=1)\n",
        "graph.add_edge('B', 'A', weight=1)\n",
        "graph.add_edge('B', 'C', weight=2)\n",
        "graph.add_edge('B', 'D', weight=1.5)\n",
        "graph.add_edge('C', 'D', weight=1.2)\n",
        "graph.add_edge('C', 'E', weight=2.5)\n",
        "graph.add_edge('D', 'E', weight=1.8)\n",
        "\n",
        "# Set the node masses\n",
        "node_masses = {\n",
        "    'A': 1,\n",
        "    'B': 2,\n",
        "    'C': 3,\n",
        "    'D': 4,\n",
        "    'E': 0\n",
        "}\n",
        "\n",
        "# Define the layout of the graph\n",
        "pos = nx.spring_layout(graph)\n",
        "\n",
        "# Draw the nodes\n",
        "nx.draw_networkx_nodes(graph, pos, node_color='w', node_size=[mass*200 for mass in node_masses.values()])\n",
        "\n",
        "# Draw the edges with their weights\n",
        "edge_labels = nx.get_edge_attributes(graph, 'weight')\n",
        "nx.draw_networkx_edges(graph, pos, edge_color='k', arrows=True)\n",
        "nx.draw_networkx_edge_labels(graph, pos, edge_labels, label_pos=0.5, font_color='red')\n",
        "\n",
        "# Add a legend for the node sizes\n",
        "for mass in sorted(node_masses.values(), reverse=True):\n",
        "    plt.scatter([], [], c='w', s=mass*200, label=f\"Mass: {mass}\")\n",
        "plt.legend(scatterpoints=1, frameon=False, labelspacing=1, loc='upper left')\n",
        "\n",
        "# Set the title and axis labels\n",
        "plt.title(\"Directed Graph with Different Edge Weights\")\n",
        "plt.xlabel(\"X-axis\")\n",
        "plt.ylabel(\"Y-axis\")\n",
        "\n",
        "# Show the plot\n",
        "plt.show()\n"
      ],
      "metadata": {
        "colab": {
          "base_uri": "https://localhost:8080/",
          "height": 278
        },
        "id": "r6YHtCqRgAcO",
        "outputId": "89ae6755-998b-4dd0-ff4f-920f1b5e2dc4"
      },
      "execution_count": null,
      "outputs": [
        {
          "output_type": "display_data",
          "data": {
            "text/plain": [
              "<Figure size 432x288 with 1 Axes>"
            ],
            "image/png": "[encoded data removed]"
          },
          "metadata": {}
        }
      ]
    },
    {
      "cell_type": "code",
      "source": [
        "import networkx as nx\n",
        "import matplotlib.pyplot as plt\n",
        "\n",
        "# Define 2: the masses of the nodes\n",
        "m_A = 1\n",
        "m_B = 2\n",
        "m_C = 3\n",
        "m_D = 4\n",
        "m_E = 0  # Assume that node E is fixed\n",
        "m_F = 5 \n",
        "m_G = 5\n",
        "m_H = 3\n",
        "m_I = 6 \n",
        "m_J = 3\n",
        "m_K = 3\n",
        "m_L = 3\n",
        "m_M = 4\n",
        "m_N = 3\n",
        "m_O = 2\n",
        "m_PESTEL = 0\n",
        "\n",
        "masses = np.array([m_A, m_B, m_C, m_D, m_E,m_F,m_G,m_H,m_I,m_J,m_K,m_L,m_M,m_N,m_O,m_PESTEL])\n",
        "\n",
        "# Define 4: the springs values\n",
        "k_AB = 1 \n",
        "k_BA = 1\n",
        "k_CB = 1\n",
        "k_BC = 1\n",
        "k_BD = 1\n",
        "k_DB = 1\n",
        "k_FE = 1\n",
        "k_EF = 1\n",
        "k_GE = 1\n",
        "k_EG = 1\n",
        "k_ED = 1\n",
        "k_DE = 1\n",
        "k_DH = 1\n",
        "k_HD = 1\n",
        "k_H  = 1\n",
        "k_HI = 1\n",
        "k_IH = 1\n",
        "k_IK = 1\n",
        "k_KI = 1\n",
        "k_IL = 1\n",
        "k_LI = 1\n",
        "k_MI = 1\n",
        "k_IM = 1\n",
        "k_IJ = 1\n",
        "k_JI = 1\n",
        "k_JD = 1\n",
        "k_DJ = 1\n",
        "k_DN = 1\n",
        "k_ND = 1\n",
        "k_OD = 1\n",
        "k_DO = 1\n",
        "f_PESTEL = 8\n",
        "\n",
        "spring_constants = {\n",
        "    ('A', 'B', k_AB), \n",
        "    ('B', 'A', k_BA),\n",
        "    ('B', 'C', k_BC),\n",
        "    ('C', 'B', k_BC),  \n",
        "    ('B', 'D', k_BD),\n",
        "    ('D', 'B', k_DB),\n",
        "    ('F', 'E', k_FE),\n",
        "    ('E', 'F', k_EF),\n",
        "    ('G', 'E', k_GE),\n",
        "    ('E', 'G', k_EG),\n",
        "    ('B', 'D', k_BD),\n",
        "    ('D', 'B', k_DB),\n",
        "    ('E', 'D', k_ED),\n",
        "    ('D', 'E', k_DE),\n",
        "    ('D', 'H', k_DH),\n",
        "    ('H', 'D', k_HD),\n",
        "    ('H', 'I', k_HI),\n",
        "    ('I', 'H', k_IH),\n",
        "    ('I', 'K', k_IK),\n",
        "    ('K', 'I', k_KI),\n",
        "    ('I', 'L', k_IL),\n",
        "    ('L', 'I', k_LI),\n",
        "    ('I', 'M', k_IM),\n",
        "    ('M', 'I', k_MI),\n",
        "    ('I', 'J', k_IJ),\n",
        "    ('J', 'I', k_JI),\n",
        "    ('J', 'D', k_JD),\n",
        "    ('D', 'J', k_DJ),\n",
        "    ('D', 'N', k_DN),\n",
        "    ('N', 'S', k_ND),\n",
        "    ('D', 'O', k_DO),\n",
        "    ('O', 'D', k_OD),\n",
        "    ('PESTL', 'N', f_PESTEL),\n",
        "    ('PESTL', 'O', f_PESTEL),\n",
        "    ('PESTL', 'H', f_PESTEL)\n",
        "    \n",
        "}\n",
        "\n",
        "\n",
        "# Create an empty graph\n",
        "G = nx.Graph()\n",
        "\n",
        "# Set default attributes for nodes and edges\n",
        "G.graph['name'] = 'My Graph'\n",
        "G.graph['date_created'] = '2022-02-17'\n",
        "G.graph['description'] = 'A complete example graph'\n",
        "\n",
        "\n",
        "# Add nodes with names and values\n",
        "G.add_node('A', value = m_A )\n",
        "G.add_node('B', value = m_B )\n",
        "G.add_node('C', value = m_C )\n",
        "G.add_node('D', value = m_D )\n",
        "G.add_node('E', value = m_E )\n",
        "G.add_node('F', value = m_F )\n",
        "G.add_node('G', value = m_G )\n",
        "G.add_node('H', value = m_H )\n",
        "G.add_node('I', value = m_I )\n",
        "G.add_node('J', value = m_J )\n",
        "G.add_node('K', value = m_K )\n",
        "G.add_node('L', value = m_L )\n",
        "G.add_node('M', value = m_M )\n",
        "G.add_node('N', value = m_N )\n",
        "G.add_node('O', value = m_O )\n",
        "G.add_node('PESTEL', value = m_PESTEL) #Forces\n",
        "\n",
        "# Add edges with different values\n",
        "G.add_edge('A', 'B', value= k_AB )\n",
        "G.add_edge('B', 'A', value= k_BA )\n",
        "G.add_edge('C', 'B', value= k_CB )\n",
        "G.add_edge('B', 'C', value= k_BC )\n",
        "G.add_edge('B', 'D', value= k_BD )\n",
        "G.add_edge('D', 'B', value= k_DB )\n",
        "G.add_edge('F', 'E', value= k_FE )\n",
        "G.add_edge('E', 'F', value= k_EF )\n",
        "G.add_edge('G', 'E', value= k_GE )\n",
        "G.add_edge('E', 'G', value= k_EG )\n",
        "G.add_edge('E', 'D', value= k_ED )\n",
        "G.add_edge('D', 'E', value= k_DE )\n",
        "G.add_edge('D', 'H', value= k_DH )\n",
        "G.add_edge('H', 'D', value= k_HD )\n",
        "G.add_edge('H', 'H', value= k_H  )\n",
        "G.add_edge('H', 'I', value= k_HI )\n",
        "G.add_edge('I', 'H', value= k_IH )\n",
        "G.add_edge('I', 'K', value= k_IK )\n",
        "G.add_edge('K', 'I', value= k_KI )\n",
        "G.add_edge('I', 'L', value= k_IL )\n",
        "G.add_edge('L', 'I', value= k_LI )\n",
        "G.add_edge('M', 'I', value= k_MI )\n",
        "G.add_edge('I', 'M', value= k_IM )\n",
        "G.add_edge('I', 'J', value= k_IJ )\n",
        "G.add_edge('J', 'I', value= k_JI )\n",
        "G.add_edge('D', 'N', value= k_DN )\n",
        "G.add_edge('N', 'D', value= k_ND )\n",
        "G.add_edge('O', 'D', value= k_OD )\n",
        "G.add_edge('D', 'O', value= k_DO )\n",
        "G.add_edge('PESTEL', 'N', value= f_PESTEL )\n",
        "G.add_edge('PESTEL', 'O', value= f_PESTEL )\n",
        "G.add_edge('PESTEL', 'H', value= f_PESTEL )\n",
        "\n",
        "\n",
        "\n",
        "# Draw the graph\n",
        "nx.draw(G, with_labels=True)\n",
        "plt.show()\n"
      ],
      "metadata": {
        "colab": {
          "base_uri": "https://localhost:8080/",
          "height": 319
        },
        "id": "UTcY3N9PRdGx",
        "outputId": "36a5af7a-258b-4a94-db4a-54e0bde48e30"
      },
      "execution_count": 111,
      "outputs": [
        {
          "output_type": "display_data",
          "data": {
            "text/plain": [
              "<Figure size 432x288 with 1 Axes>"
            ],
            "image/png": "[encoded data removed]"
          },
          "metadata": {}
        }
      ]
    },
    {
      "cell_type": "code",
      "source": [
        "Spring_Matrix, G = calculate_spring_matrix(masses, spring_constants)"
      ],
      "metadata": {
        "id": "U7JRm1d8wfhf"
      },
      "execution_count": 120,
      "outputs": []
    },
    {
      "cell_type": "code",
      "source": [
        "# Draw the graph\n",
        "nx.draw(G, with_labels=True)\n",
        "plt.show()"
      ],
      "metadata": {
        "colab": {
          "base_uri": "https://localhost:8080/",
          "height": 319
        },
        "id": "255TFmw3zMOk",
        "outputId": "a10007c3-44a6-4893-b212-95bcb0349404"
      },
      "execution_count": 121,
      "outputs": [
        {
          "output_type": "display_data",
          "data": {
            "text/plain": [
              "<Figure size 432x288 with 1 Axes>"
            ],
            "image/png": "[encoded data removed]"
          },
          "metadata": {}
        }
      ]
    },
    {
      "cell_type": "code",
      "source": [
        "#masses = [1, 2, 3, 4, 0, 5, 5, 3, 6, 3, 3, 3, 4, 3, 2, 0]\n",
        "#spring_constants = [('A', 'B', k_AB), ('B', 'C', 4), ('B', 'D', 1), ('C', 'B', 1), ('D', 'B', 1), ('D', 'H', 1), ('D', 'E', 1), ('D', 'N', 1), ('E', 'F', 1), ('E', 'G', 1), ('E', 'D', 1), ('F', 'E', 1), ('G', 'E', 1), ('H', 'D', 1), ('H', 'I', 1), ('H', 'H', 1), ('I', 'H', 1), ('I', 'K', 1), ('I', 'L', 1), ('I', 'M', 1), ('I', 'J', 1), ('J', 'I', 1), ('K', 'I', 1), ('K', 'I', 1), ('L', 'I', 1), ('M', 'I', 1), ('N', 'D', 1), ('O', 'D', 1), ('PESTEL', 'H', 8), ('PESTEL', 'N', 8), ('PESTEL', 'O', 8)]\n",
        "\n",
        "adj_matrix = calculate_spring_matrix(masses, spring_constants)\n",
        "\n",
        "print(adj_matrix)\n"
      ],
      "metadata": {
        "colab": {
          "base_uri": "https://localhost:8080/"
        },
        "id": "aZhTfos0wE3u",
        "outputId": "0e8f03c6-7ba8-4dca-c161-acbe143f9b4a"
      },
      "execution_count": 114,
      "outputs": [
        {
          "output_type": "stream",
          "name": "stdout",
          "text": [
            "[[0. 1. 0. 0. 0. 0. 0. 0. 0. 0. 0. 0. 0. 0. 0. 0. 0. 0.]\n",
            " [1. 0. 1. 1. 0. 0. 0. 0. 0. 0. 0. 0. 0. 0. 0. 0. 0. 0.]\n",
            " [0. 1. 0. 0. 0. 0. 0. 0. 0. 0. 0. 0. 0. 0. 0. 0. 0. 0.]\n",
            " [0. 1. 0. 0. 1. 0. 0. 1. 0. 1. 0. 0. 0. 1. 1. 0. 0. 0.]\n",
            " [0. 0. 0. 1. 0. 1. 1. 0. 0. 0. 0. 0. 0. 0. 0. 0. 0. 0.]\n",
            " [0. 0. 0. 0. 1. 0. 0. 0. 0. 0. 0. 0. 0. 0. 0. 0. 0. 0.]\n",
            " [0. 0. 0. 0. 1. 0. 0. 0. 0. 0. 0. 0. 0. 0. 0. 0. 0. 0.]\n",
            " [0. 0. 0. 1. 0. 0. 0. 0. 1. 0. 0. 0. 0. 0. 0. 0. 8. 0.]\n",
            " [0. 0. 0. 0. 0. 0. 0. 1. 0. 1. 1. 1. 1. 0. 0. 0. 0. 0.]\n",
            " [0. 0. 0. 1. 0. 0. 0. 0. 1. 0. 0. 0. 0. 0. 0. 0. 0. 0.]\n",
            " [0. 0. 0. 0. 0. 0. 0. 0. 1. 0. 0. 0. 0. 0. 0. 0. 0. 0.]\n",
            " [0. 0. 0. 0. 0. 0. 0. 0. 1. 0. 0. 0. 0. 0. 0. 0. 0. 0.]\n",
            " [0. 0. 0. 0. 0. 0. 0. 0. 1. 0. 0. 0. 0. 0. 0. 0. 0. 0.]\n",
            " [0. 0. 0. 1. 0. 0. 0. 0. 0. 0. 0. 0. 0. 0. 0. 0. 8. 1.]\n",
            " [0. 0. 0. 1. 0. 0. 0. 0. 0. 0. 0. 0. 0. 0. 0. 0. 8. 0.]\n",
            " [0. 0. 0. 0. 0. 0. 0. 0. 0. 0. 0. 0. 0. 0. 0. 0. 0. 0.]\n",
            " [0. 0. 0. 0. 0. 0. 0. 8. 0. 0. 0. 0. 0. 8. 8. 0. 0. 0.]\n",
            " [0. 0. 0. 0. 0. 0. 0. 0. 0. 0. 0. 0. 0. 1. 0. 0. 0. 0.]]\n"
          ]
        }
      ]
    },
    {
      "cell_type": "markdown",
      "source": [
        "# Test"
      ],
      "metadata": {
        "id": "Q6sLq1YsPIfl"
      }
    },
    {
      "cell_type": "code",
      "source": [
        "import networkx as nx\n",
        "import matplotlib.pyplot as plt\n",
        "\n",
        "# Define the graph type (undirected, directed, etc.)\n",
        "G = nx.Graph()\n",
        "\n",
        "# Set default attributes for nodes and edges\n",
        "G.graph['name'] = 'My Graph'\n",
        "G.graph['date_created'] = '2022-02-17'\n",
        "G.graph['description'] = 'A complete example graph'\n",
        "\n",
        "G.node_default = {'color': 'blue', 'size': 10}\n",
        "G.edge_default = {'weight': 1.0}\n",
        "\n",
        "# Add nodes with attributes\n",
        "G.add_node('A', color='red', size=200)\n",
        "G.add_node('B', color='green', size=300)\n",
        "G.add_node('C', color='blue', size=400)\n",
        "\n",
        "# Add edges with attributes\n",
        "G.add_edge('A', 'B', weight=0.5)\n",
        "G.add_edge('A', 'C', weight=0.7)\n",
        "G.add_edge('B', 'C', weight=0.9)\n",
        "\n",
        "# Define the node colors and sizes\n",
        "node_colors = [data['color'] for node, data in G.nodes(data=True)]\n",
        "node_sizes = [data['size'] for node, data in G.nodes(data=True)]\n",
        "\n",
        "# Define the edge weights\n",
        "edge_weights = [data['weight'] for u, v, data in G.edges(data=True)]\n",
        "\n",
        "# Draw the graph with customizations\n",
        "pos = nx.spring_layout(G)\n",
        "nx.draw_networkx_nodes(G, pos, node_color=node_colors, node_size=node_sizes)\n",
        "nx.draw_networkx_edges(G, pos, width=edge_weights, alpha=0.5, edge_color='gray')\n",
        "nx.draw_networkx_labels(G, pos, font_size=10)\n",
        "nx.draw_networkx_edge_labels(G, pos, edge_labels={(u, v): data['weight'] for u, v, data in G.edges(data=True)})\n",
        "plt.title(G.graph['name'])\n",
        "plt.axis('off')\n",
        "plt.show()\n"
      ],
      "metadata": {
        "colab": {
          "base_uri": "https://localhost:8080/",
          "height": 264
        },
        "id": "6w-PfFkfSrNd",
        "outputId": "bd15e649-3286-4bfd-d9e9-6a4afb3023ed"
      },
      "execution_count": 30,
      "outputs": [
        {
          "output_type": "display_data",
          "data": {
            "text/plain": [
              "<Figure size 432x288 with 1 Axes>"
            ],
            "image/png": "[encoded data removed]"
          },
          "metadata": {}
        }
      ]
    },
    {
      "cell_type": "code",
      "source": [],
      "metadata": {
        "id": "uaqOJeRXXke5"
      },
      "execution_count": null,
      "outputs": []
    },
    {
      "cell_type": "code",
      "source": [
        "import plotly.graph_objects as go\n",
        "\n",
        "import networkx as nx\n",
        "\n",
        "G = nx.random_geometric_graph(200, 0.125)"
      ],
      "metadata": {
        "id": "zeNc7O_va3k_"
      },
      "execution_count": 20,
      "outputs": []
    },
    {
      "cell_type": "code",
      "source": [
        "edge_x = []\n",
        "edge_y = []\n",
        "for edge in G.edges():\n",
        "    x0, y0 = G.nodes[edge[0]]['pos']\n",
        "    x1, y1 = G.nodes[edge[1]]['pos']\n",
        "    edge_x.append(x0)\n",
        "    edge_x.append(x1)\n",
        "    edge_x.append(None)\n",
        "    edge_y.append(y0)\n",
        "    edge_y.append(y1)\n",
        "    edge_y.append(None)\n",
        "\n",
        "edge_trace = go.Scatter(\n",
        "    x=edge_x, y=edge_y,\n",
        "    line=dict(width=0.5, color='#888'),\n",
        "    hoverinfo='none',\n",
        "    mode='lines')\n",
        "\n",
        "node_x = []\n",
        "node_y = []\n",
        "for node in G.nodes():\n",
        "    x, y = G.nodes[node]['pos']\n",
        "    node_x.append(x)\n",
        "    node_y.append(y)\n",
        "\n",
        "node_trace = go.Scatter(\n",
        "    x=node_x, y=node_y,\n",
        "    mode='markers',\n",
        "    hoverinfo='text',\n",
        "    marker=dict(\n",
        "        showscale=True,\n",
        "        # colorscale options\n",
        "        #'Greys' | 'YlGnBu' | 'Greens' | 'YlOrRd' | 'Bluered' | 'RdBu' |\n",
        "        #'Reds' | 'Blues' | 'Picnic' | 'Rainbow' | 'Portland' | 'Jet' |\n",
        "        #'Hot' | 'Blackbody' | 'Earth' | 'Electric' | 'Viridis' |\n",
        "        colorscale='YlGnBu',\n",
        "        reversescale=True,\n",
        "        color=[],\n",
        "        size=10,\n",
        "        colorbar=dict(\n",
        "            thickness=15,\n",
        "            title='Node Connections',\n",
        "            xanchor='left',\n",
        "            titleside='right'\n",
        "        ),\n",
        "        line_width=2))"
      ],
      "metadata": {
        "id": "M90jePxQbvtK"
      },
      "execution_count": 21,
      "outputs": []
    },
    {
      "cell_type": "code",
      "source": [
        "node_adjacencies = []\n",
        "node_text = []\n",
        "for node, adjacencies in enumerate(G.adjacency()):\n",
        "    node_adjacencies.append(len(adjacencies[1]))\n",
        "    node_text.append('# of connections: '+str(len(adjacencies[1])))\n",
        "\n",
        "node_trace.marker.color = node_adjacencies\n",
        "node_trace.text = node_text"
      ],
      "metadata": {
        "id": "aBpO472Mbvzt"
      },
      "execution_count": 22,
      "outputs": []
    },
    {
      "cell_type": "code",
      "source": [
        "fig = go.Figure(data=[edge_trace, node_trace],\n",
        "             layout=go.Layout(\n",
        "                title='<br>Network graph made with Python',\n",
        "                titlefont_size=16,\n",
        "                showlegend=False,\n",
        "                hovermode='closest',\n",
        "                margin=dict(b=20,l=5,r=5,t=40),\n",
        "                annotations=[ dict(\n",
        "                    text=\"Python code: <a href='https://plotly.com/ipython-notebooks/network-graphs/'> https://plotly.com/ipython-notebooks/network-graphs/</a>\",\n",
        "                    showarrow=False,\n",
        "                    xref=\"paper\", yref=\"paper\",\n",
        "                    x=0.005, y=-0.002 ) ],\n",
        "                xaxis=dict(showgrid=False, zeroline=False, showticklabels=False),\n",
        "                yaxis=dict(showgrid=False, zeroline=False, showticklabels=False))\n",
        "                )\n",
        "fig.show()"
      ],
      "metadata": {
        "colab": {
          "base_uri": "https://localhost:8080/",
          "height": 542
        },
        "id": "Lwcw-g24bv31",
        "outputId": "1a4cd9cf-d1f6-451c-cfd6-9457d06ae0c4"
      },
      "execution_count": 23,
      "outputs": [
        {
          "output_type": "display_data",
          "data": {
            "text/html": [
              "<html>\n",
              "<head><meta charset=\"utf-8\" /></head>\n",
              "<body>\n",
              "    <div>            <script src=\"https://cdnjs.cloudflare.com/ajax/libs/mathjax/2.7.5/MathJax.js?config=TeX-AMS-MML_SVG\"></script><script type=\"text/javascript\">if (window.MathJax) {MathJax.Hub.Config({SVG: {font: \"STIX-Web\"}});}</script>                <script type=\"text/javascript\">window.PlotlyConfig = {MathJaxConfig: 'local'};</script>\n",
              "        <script src=\"https://cdn.plot.ly/plotly-2.8.3.min.js\"></script>                <div id=\"9c53ee74-6795-44ae-a34b-34a38936b8ff\" class=\"plotly-graph-div\" style=\"height:525px; width:100%;\"></div>            <script type=\"text/javascript\">                                    window.PLOTLYENV=window.PLOTLYENV || {};                                    if (document.getElementById(\"9c53ee74-6795-44ae-a34b-34a38936b8ff\")) {                    Plotly.newPlot(                        \"9c53ee74-6795-44ae-a34b-34a38936b8ff\",                        [{\"hoverinfo\":\"none\",\"line\":{\"color\":\"#888\",\"width\":0.5},\"mode\":\"lines\",\"x\":[0.6046964922824576,0.5165005137664226,null,0.6046964922824576,0.6770585494385171,null,0.6046964922824576,0.5993519074543244,null,0.6046964922824576,0.6025241700530161,null,0.6046964922824576,0.5437513924008918,null,0.6046964922824576,0.6728473393606034,null,0.6046964922824576,0.5696929273032818,null,0.6046964922824576,0.6319014921998949,null,0.6046964922824576,0.7038566783105124,null,0.6046964922824576,0.5386364773512996,null,0.6046964922824576,0.6176839181344532,null,0.6046964922824576,0.6398372711939675,null,0.8962375953340884,0.9230968285003445,null,0.8962375953340884,0.9360161864153677,null,0.8962375953340884,0.8152215818360576,null,0.8962375953340884,0.8362330124652516,null,0.8962375953340884,0.7910367374444575,null,0.8962375953340884,0.8505491285697463,null,0.6984529462747742,0.578920540521865,null,0.6984529462747742,0.6755611786646983,null,0.6984529462747742,0.7998852511822941,null,0.6984529462747742,0.6617209753754294,null,0.6984529462747742,0.7269631469241783,null,0.6984529462747742,0.6932995279395119,null,0.6984529462747742,0.7651041260565234,null,0.6984529462747742,0.7362436139625441,null,0.6984529462747742,0.6747245118293439,null,0.6984529462747742,0.739597775860374,null,0.6984529462747742,0.6411436531649676,null,0.6984529462747742,0.7549919811123429,null,0.6984529462747742,0.7307320281468533,null,0.4728355756972884,0.3957328007077817,null,0.4728355756972884,0.47433384623003294,null,0.4728355756972884,0.5264889040111038,null,0.4728355756972884,0.4688894802854542,null,0.4728355756972884,0.5014439547732668,null,0.4728355756972884,0.37951916912448147,null,0.4728355756972884,0.441445841881293,null,0.4728355756972884,0.4689441380212228,null,0.7989576876065841,0.8698663106508973,null,0.7989576876065841,0.8036093171314471,null,0.7989576876065841,0.9035478145771344,null,0.7989576876065841,0.8575000024138825,null,0.7989576876065841,0.7723847640757219,null,0.7989576876065841,0.7362436139625441,null,0.7989576876065841,0.8390511986084478,null,0.7989576876065841,0.9135054230138201,null,0.7989576876065841,0.739597775860374,null,0.7989576876065841,0.7117841877232606,null,0.7989576876065841,0.8453571362343341,null,0.7989576876065841,0.7549919811123429,null,0.8698663106508973,0.8036093171314471,null,0.8698663106508973,0.9054826523126981,null,0.8698663106508973,0.9035478145771344,null,0.8698663106508973,0.8575000024138825,null,0.8698663106508973,0.9584374698716175,null,0.8698663106508973,0.9416144726523906,null,0.8698663106508973,0.8390511986084478,null,0.8698663106508973,0.9135054230138201,null,0.8698663106508973,0.8453571362343341,null,0.5165005137664226,0.5993519074543244,null,0.5165005137664226,0.6025241700530161,null,0.5165005137664226,0.5437513924008918,null,0.5165005137664226,0.5696929273032818,null,0.5165005137664226,0.6319014921998949,null,0.5165005137664226,0.48538571726298785,null,0.5165005137664226,0.5386364773512996,null,0.5165005137664226,0.6176839181344532,null,0.43124087589997195,0.3833890555514132,null,0.43124087589997195,0.41320389211330966,null,0.43124087589997195,0.47528188220605894,null,0.43124087589997195,0.4465500162431618,null,0.43124087589997195,0.3480636114852065,null,0.43124087589997195,0.4089683820550202,null,0.43124087589997195,0.40652472009580887,null,0.43124087589997195,0.5291775952064607,null,0.43124087589997195,0.48538571726298785,null,0.43124087589997195,0.3400685782746127,null,0.43124087589997195,0.3331164961558588,null,0.578920540521865,0.6755611786646983,null,0.578920540521865,0.6617209753754294,null,0.578920540521865,0.6932995279395119,null,0.578920540521865,0.6747245118293439,null,0.578920540521865,0.6411436531649676,null,0.578920540521865,0.47020099688943884,null,0.578920540521865,0.5083198738755778,null,0.6601821488024211,0.7723445810084909,null,0.6601821488024211,0.7302190110350176,null,0.6601821488024211,0.6025241700530161,null,0.6601821488024211,0.6611641671855606,null,0.6601821488024211,0.6791388047817615,null,0.6601821488024211,0.632599445291796,null,0.17472919017128774,0.23555306864093295,null,0.17472919017128774,0.1589589635267451,null,0.17472919017128774,0.21205275736933216,null,0.17472919017128774,0.10447118525848076,null,0.17472919017128774,0.18111266215632227,null,0.17472919017128774,0.20092361039179896,null,0.17472919017128774,0.2798492646335802,null,0.17472919017128774,0.10075161179095016,null,0.17472919017128774,0.11989641633677661,null,0.17472919017128774,0.22860173614133006,null,0.17472919017128774,0.27092551660948294,null,0.17472919017128774,0.2830864026722918,null,0.23555306864093295,0.1589589635267451,null,0.23555306864093295,0.1582236993951296,null,0.23555306864093295,0.2801551214679343,null,0.23555306864093295,0.18111266215632227,null,0.23555306864093295,0.17876385113042603,null,0.23555306864093295,0.25011341770570183,null,0.23555306864093295,0.20092361039179896,null,0.23555306864093295,0.2798492646335802,null,0.23555306864093295,0.2687507007172456,null,0.23555306864093295,0.3400685782746127,null,0.23555306864093295,0.2830864026722918,null,0.3833890555514132,0.29083482260139026,null,0.3833890555514132,0.2798492646335802,null,0.3833890555514132,0.3480636114852065,null,0.3833890555514132,0.40652472009580887,null,0.3833890555514132,0.27092551660948294,null,0.3833890555514132,0.3331164961558588,null,0.3833890555514132,0.2830864026722918,null,0.9385971965588629,0.9035478145771344,null,0.9385971965588629,0.9915438864750425,null,0.9385971965588629,0.902602572105231,null,0.9385971965588629,0.9777017067610998,null,0.9385971965588629,0.9416144726523906,null,0.9385971965588629,0.9135054230138201,null,0.9385971965588629,0.8966013633762772,null,0.9385971965588629,0.8999754588445371,null,0.9385971965588629,0.9368126170858241,null,0.9385971965588629,0.866465343984483,null,0.9385971965588629,0.9484520442410082,null,0.9385971965588629,0.9007727383596961,null,0.9385971965588629,0.9752082558035422,null,0.9385971965588629,0.9865708038698079,null,0.6755611786646983,0.6617209753754294,null,0.6755611786646983,0.7269631469241783,null,0.6755611786646983,0.6932995279395119,null,0.6755611786646983,0.7651041260565234,null,0.6755611786646983,0.7362436139625441,null,0.6755611786646983,0.6747245118293439,null,0.6755611786646983,0.739597775860374,null,0.6755611786646983,0.647222431993436,null,0.6755611786646983,0.7117841877232606,null,0.6755611786646983,0.7549919811123429,null,0.6755611786646983,0.7307320281468533,null,0.6372086257995714,0.6986028666314023,null,0.6372086257995714,0.5264889040111038,null,0.6372086257995714,0.647222431993436,null,0.6372086257995714,0.7117841877232606,null,0.6372086257995714,0.5825379601901369,null,0.306370922798485,0.4099908784667634,null,0.306370922798485,0.2801551214679343,null,0.306370922798485,0.25473121296631607,null,0.6722054343519297,0.6986028666314023,null,0.6722054343519297,0.6837954028890589,null,0.6722054343519297,0.6882716836122206,null,0.6722054343519297,0.6791388047817615,null,0.6722054343519297,0.7635786961057446,null,0.1589589635267451,0.10447118525848076,null,0.1589589635267451,0.1582236993951296,null,0.1589589635267451,0.18111266215632227,null,0.1589589635267451,0.17876385113042603,null,0.1589589635267451,0.25011341770570183,null,0.1589589635267451,0.20092361039179896,null,0.1589589635267451,0.10700218283874208,null,0.1589589635267451,0.06483572890148548,null,0.1589589635267451,0.10075161179095016,null,0.1589589635267451,0.2687507007172456,null,0.1589589635267451,0.0916311591213329,null,0.9949725561563854,0.975529500572008,null,0.9949725561563854,0.923160904576477,null,0.9949725561563854,0.9614416214605949,null,0.9949725561563854,0.9982785499916703,null,0.9949725561563854,0.9811792333231781,null,0.7723445810084909,0.7302190110350176,null,0.7723445810084909,0.8152215818360576,null,0.7723445810084909,0.8416052776765105,null,0.7723445810084909,0.8605048946284823,null,0.7723445810084909,0.8505491285697463,null,0.7723445810084909,0.7827951660062367,null,0.7302190110350176,0.8241351269521909,null,0.7302190110350176,0.8180294734194627,null,0.7302190110350176,0.6611641671855606,null,0.7302190110350176,0.6882716836122206,null,0.7302190110350176,0.6791388047817615,null,0.7302190110350176,0.7827951660062367,null,0.7302190110350176,0.7866461737014527,null,0.975529500572008,0.923160904576477,null,0.975529500572008,0.9614416214605949,null,0.975529500572008,0.8654413288583562,null,0.975529500572008,0.9982785499916703,null,0.975529500572008,0.881497298498418,null,0.975529500572008,0.9811792333231781,null,0.9230968285003445,0.9360161864153677,null,0.9230968285003445,0.8362330124652516,null,0.9230968285003445,0.8560945868866366,null,0.7998852511822941,0.7269631469241783,null,0.7998852511822941,0.6932995279395119,null,0.7998852511822941,0.7651041260565234,null,0.7998852511822941,0.902602572105231,null,0.7998852511822941,0.8536717768090112,null,0.7998852511822941,0.8966013633762772,null,0.7998852511822941,0.8999754588445371,null,0.7998852511822941,0.866465343984483,null,0.7998852511822941,0.9007727383596961,null,0.7998852511822941,0.7307320281468533,null,0.6770585494385171,0.5993519074543244,null,0.6770585494385171,0.7308272666390621,null,0.6770585494385171,0.6025241700530161,null,0.6770585494385171,0.7910367374444575,null,0.6770585494385171,0.6728473393606034,null,0.6770585494385171,0.5696929273032818,null,0.6770585494385171,0.6319014921998949,null,0.6770585494385171,0.7038566783105124,null,0.6770585494385171,0.6176839181344532,null,0.6770585494385171,0.6398372711939675,null,0.6617209753754294,0.7269631469241783,null,0.6617209753754294,0.6932995279395119,null,0.6617209753754294,0.7651041260565234,null,0.6617209753754294,0.7362436139625441,null,0.6617209753754294,0.6747245118293439,null,0.6617209753754294,0.739597775860374,null,0.6617209753754294,0.647222431993436,null,0.6617209753754294,0.7117841877232606,null,0.6617209753754294,0.7549919811123429,null,0.6617209753754294,0.7307320281468533,null,0.21205275736933216,0.21651052084899136,null,0.21205275736933216,0.29083482260139026,null,0.21205275736933216,0.20092361039179896,null,0.21205275736933216,0.2798492646335802,null,0.21205275736933216,0.21721616996053605,null,0.21205275736933216,0.17998389116083902,null,0.21205275736933216,0.11989641633677661,null,0.21205275736933216,0.22860173614133006,null,0.21205275736933216,0.27092551660948294,null,0.022205042279742182,0.10447118525848076,null,0.022205042279742182,0.07183392430391289,null,0.022205042279742182,0.0014328257103323194,null,0.022205042279742182,0.0244956028964064,null,0.022205042279742182,0.06483572890148548,null,0.022205042279742182,0.10075161179095016,null,0.11379981372832348,0.04224014111283192,null,0.11379981372832348,0.09629924374901122,null,0.11379981372832348,0.1397067507481281,null,0.11379981372832348,0.1778083357780551,null,0.11379981372832348,0.07279649120577358,null,0.11379981372832348,0.10847868881372369,null,0.11379981372832348,0.17324773468720966,null,0.11379981372832348,0.010944774553816261,null,0.11379981372832348,0.009546929880308364,null,0.11379981372832348,0.11888725881951445,null,0.8241351269521909,0.8180294734194627,null,0.8241351269521909,0.923160904576477,null,0.8241351269521909,0.8654413288583562,null,0.8241351269521909,0.7827951660062367,null,0.8241351269521909,0.7866461737014527,null,0.8241351269521909,0.881497298498418,null,0.1275055239566768,0.12963726515652052,null,0.1275055239566768,0.1582236993951296,null,0.1275055239566768,0.10523185275454483,null,0.1275055239566768,0.17876385113042603,null,0.1275055239566768,0.10700218283874208,null,0.1275055239566768,0.01577302908707623,null,0.1275055239566768,0.06483572890148548,null,0.1275055239566768,0.021356510526583383,null,0.1275055239566768,0.05822467472226489,null,0.1275055239566768,0.0916311591213329,null,0.1275055239566768,0.17638674811738841,null,0.1275055239566768,0.05168264246218679,null,0.10447118525848076,0.07183392430391289,null,0.10447118525848076,0.18111266215632227,null,0.10447118525848076,0.20092361039179896,null,0.10447118525848076,0.0244956028964064,null,0.10447118525848076,0.10075161179095016,null,0.10447118525848076,0.11989641633677661,null,0.10447118525848076,0.08165623778378794,null,0.12963726515652052,0.1582236993951296,null,0.12963726515652052,0.10523185275454483,null,0.12963726515652052,0.17876385113042603,null,0.12963726515652052,0.01577302908707623,null,0.12963726515652052,0.021356510526583383,null,0.12963726515652052,0.05822467472226489,null,0.12963726515652052,0.17638674811738841,null,0.12963726515652052,0.05168264246218679,null,0.46890996726806955,0.3900309557119024,null,0.46890996726806955,0.47433384623003294,null,0.46890996726806955,0.47020099688943884,null,0.46890996726806955,0.5083198738755778,null,0.02706518743985553,0.019038654312287684,null,0.02706518743985553,0.11011717905623153,null,0.02706518743985553,0.1458811437763483,null,0.02706518743985553,0.08165623778378794,null,0.9360161864153677,0.8152215818360576,null,0.9360161864153677,0.9825987767535134,null,0.9360161864153677,0.8505491285697463,null,0.8180294734194627,0.923160904576477,null,0.8180294734194627,0.8654413288583562,null,0.8180294734194627,0.8416052776765105,null,0.8180294734194627,0.8605048946284823,null,0.8180294734194627,0.7827951660062367,null,0.8180294734194627,0.7866461737014527,null,0.923160904576477,0.9614416214605949,null,0.923160904576477,0.8654413288583562,null,0.923160904576477,0.9982785499916703,null,0.923160904576477,0.881497298498418,null,0.923160904576477,0.9811792333231781,null,0.8152215818360576,0.7910367374444575,null,0.8152215818360576,0.8505491285697463,null,0.8152215818360576,0.7038566783105124,null,0.8036093171314471,0.9054826523126981,null,0.8036093171314471,0.8575000024138825,null,0.8036093171314471,0.7723847640757219,null,0.8036093171314471,0.8390511986084478,null,0.8036093171314471,0.8453571362343341,null,0.8036093171314471,0.7635786961057446,null,0.9614416214605949,0.8654413288583562,null,0.9614416214605949,0.9982785499916703,null,0.9614416214605949,0.9811792333231781,null,0.41320389211330966,0.47528188220605894,null,0.41320389211330966,0.4465500162431618,null,0.41320389211330966,0.3480636114852065,null,0.41320389211330966,0.4089683820550202,null,0.41320389211330966,0.40652472009580887,null,0.41320389211330966,0.48538571726298785,null,0.41320389211330966,0.3400685782746127,null,0.41320389211330966,0.3331164961558588,null,0.22937019975711026,0.21781717013919355,null,0.22937019975711026,0.1778083357780551,null,0.22937019975711026,0.10847868881372369,null,0.22937019975711026,0.17324773468720966,null,0.22937019975711026,0.21993784449872134,null,0.22937019975711026,0.2361962809578979,null,0.22937019975711026,0.2600105962843374,null,0.22937019975711026,0.11888725881951445,null,0.9054826523126981,0.9866853063486785,null,0.9054826523126981,0.9035478145771344,null,0.9054826523126981,0.8575000024138825,null,0.9054826523126981,0.9584374698716175,null,0.9054826523126981,0.8390511986084478,null,0.9054826523126981,0.9135054230138201,null,0.9054826523126981,0.8453571362343341,null,0.9054826523126981,0.881497298498418,null,0.21781717013919355,0.15709139648400572,null,0.21781717013919355,0.1215667068329469,null,0.21781717013919355,0.09629924374901122,null,0.21781717013919355,0.26462363718650983,null,0.21781717013919355,0.1778083357780551,null,0.21781717013919355,0.10847868881372369,null,0.21781717013919355,0.17324773468720966,null,0.21781717013919355,0.21993784449872134,null,0.21781717013919355,0.2361962809578979,null,0.21781717013919355,0.15749612146055303,null,0.21781717013919355,0.27546077838291716,null,0.21781717013919355,0.2600105962843374,null,0.21781717013919355,0.3187679555964734,null,0.5993519074543244,0.6025241700530161,null,0.5993519074543244,0.5437513924008918,null,0.5993519074543244,0.6728473393606034,null,0.5993519074543244,0.5696929273032818,null,0.5993519074543244,0.6319014921998949,null,0.5993519074543244,0.7038566783105124,null,0.5993519074543244,0.5386364773512996,null,0.5993519074543244,0.6176839181344532,null,0.5993519074543244,0.6398372711939675,null,0.7269631469241783,0.6932995279395119,null,0.7269631469241783,0.7651041260565234,null,0.7269631469241783,0.7362436139625441,null,0.7269631469241783,0.6747245118293439,null,0.7269631469241783,0.739597775860374,null,0.7269631469241783,0.6411436531649676,null,0.7269631469241783,0.7549919811123429,null,0.7269631469241783,0.7307320281468533,null,0.3900309557119024,0.47433384623003294,null,0.3900309557119024,0.3621484376183073,null,0.3900309557119024,0.3194147225952906,null,0.3900309557119024,0.34509147208996327,null,0.3900309557119024,0.27546077838291716,null,0.3900309557119024,0.37951916912448147,null,0.3900309557119024,0.3187679555964734,null,0.3900309557119024,0.3294690594497872,null,0.7308272666390621,0.8362330124652516,null,0.7308272666390621,0.7910367374444575,null,0.7308272666390621,0.6728473393606034,null,0.7308272666390621,0.6319014921998949,null,0.7308272666390621,0.7038566783105124,null,0.7308272666390621,0.6176839181344532,null,0.7308272666390621,0.6398372711939675,null,0.6025241700530161,0.5437513924008918,null,0.6025241700530161,0.6728473393606034,null,0.6025241700530161,0.5696929273032818,null,0.6025241700530161,0.632599445291796,null,0.6025241700530161,0.6319014921998949,null,0.6025241700530161,0.7038566783105124,null,0.6025241700530161,0.5386364773512996,null,0.6025241700530161,0.6176839181344532,null,0.6025241700530161,0.6398372711939675,null,0.04224014111283192,0.1397067507481281,null,0.04224014111283192,0.07279649120577358,null,0.04224014111283192,0.10847868881372369,null,0.04224014111283192,0.010944774553816261,null,0.04224014111283192,0.009546929880308364,null,0.04224014111283192,0.11888725881951445,null,0.15709139648400572,0.1215667068329469,null,0.15709139648400572,0.09629924374901122,null,0.15709139648400572,0.26462363718650983,null,0.15709139648400572,0.09939194725279876,null,0.15709139648400572,0.1458811437763483,null,0.15709139648400572,0.21993784449872134,null,0.15709139648400572,0.2361962809578979,null,0.15709139648400572,0.15749612146055303,null,0.15709139648400572,0.1431669876546734,null,0.15709139648400572,0.27546077838291716,null,0.21651052084899136,0.2898735314907366,null,0.21651052084899136,0.11011717905623153,null,0.21651052084899136,0.21721616996053605,null,0.21651052084899136,0.3194147225952906,null,0.21651052084899136,0.17998389116083902,null,0.21651052084899136,0.1458811437763483,null,0.21651052084899136,0.1431669876546734,null,0.38402002854059647,0.4031423192388004,null,0.38402002854059647,0.330063240221515,null,0.38402002854059647,0.47020099688943884,null,0.38402002854059647,0.4773509673360965,null,0.38402002854059647,0.5033581078822806,null,0.6932995279395119,0.7651041260565234,null,0.6932995279395119,0.7362436139625441,null,0.6932995279395119,0.6747245118293439,null,0.6932995279395119,0.739597775860374,null,0.6932995279395119,0.7117841877232606,null,0.6932995279395119,0.7549919811123429,null,0.6932995279395119,0.7307320281468533,null,0.3957328007077817,0.2898735314907366,null,0.3957328007077817,0.3621484376183073,null,0.3957328007077817,0.3194147225952906,null,0.3957328007077817,0.4688894802854542,null,0.3957328007077817,0.34509147208996327,null,0.3957328007077817,0.5014439547732668,null,0.3957328007077817,0.37951916912448147,null,0.3957328007077817,0.441445841881293,null,0.3957328007077817,0.4689441380212228,null,0.3957328007077817,0.3294690594497872,null,0.8654413288583562,0.7866461737014527,null,0.8654413288583562,0.881497298498418,null,0.4031423192388004,0.330063240221515,null,0.4031423192388004,0.47020099688943884,null,0.4031423192388004,0.4773509673360965,null,0.4031423192388004,0.5033581078822806,null,0.47528188220605894,0.4465500162431618,null,0.47528188220605894,0.4089683820550202,null,0.47528188220605894,0.5291775952064607,null,0.47528188220605894,0.48538571726298785,null,0.5437513924008918,0.5696929273032818,null,0.5437513924008918,0.6319014921998949,null,0.5437513924008918,0.48538571726298785,null,0.5437513924008918,0.5386364773512996,null,0.5437513924008918,0.6176839181344532,null,0.5437513924008918,0.6398372711939675,null,0.1582236993951296,0.10523185275454483,null,0.1582236993951296,0.2801551214679343,null,0.1582236993951296,0.18111266215632227,null,0.1582236993951296,0.17876385113042603,null,0.1582236993951296,0.25011341770570183,null,0.1582236993951296,0.10700218283874208,null,0.1582236993951296,0.06483572890148548,null,0.1582236993951296,0.05822467472226489,null,0.1582236993951296,0.0916311591213329,null,0.1582236993951296,0.17638674811738841,null,0.9866853063486785,0.9584374698716175,null,0.9866853063486785,0.9982785499916703,null,0.9035478145771344,0.9915438864750425,null,0.9035478145771344,0.8575000024138825,null,0.9035478145771344,0.902602572105231,null,0.9035478145771344,0.9584374698716175,null,0.9035478145771344,0.9777017067610998,null,0.9035478145771344,0.9416144726523906,null,0.9035478145771344,0.8390511986084478,null,0.9035478145771344,0.9135054230138201,null,0.9035478145771344,0.8453571362343341,null,0.9035478145771344,0.9368126170858241,null,0.9035478145771344,0.9484520442410082,null,0.9035478145771344,0.9865708038698079,null,0.1215667068329469,0.09629924374901122,null,0.1215667068329469,0.09939194725279876,null,0.1215667068329469,0.10847868881372369,null,0.1215667068329469,0.21993784449872134,null,0.1215667068329469,0.2361962809578979,null,0.1215667068329469,0.15749612146055303,null,0.1215667068329469,0.1431669876546734,null,0.47433384623003294,0.5264889040111038,null,0.47433384623003294,0.3621484376183073,null,0.47433384623003294,0.4688894802854542,null,0.47433384623003294,0.5825379601901369,null,0.47433384623003294,0.37951916912448147,null,0.47433384623003294,0.5083198738755778,null,0.47433384623003294,0.441445841881293,null,0.2898735314907366,0.3621484376183073,null,0.2898735314907366,0.26462363718650983,null,0.2898735314907366,0.21721616996053605,null,0.2898735314907366,0.3194147225952906,null,0.2898735314907366,0.34509147208996327,null,0.2898735314907366,0.27546077838291716,null,0.2898735314907366,0.37951916912448147,null,0.2898735314907366,0.3294690594497872,null,0.6986028666314023,0.7723847640757219,null,0.6986028666314023,0.6837954028890589,null,0.6986028666314023,0.7635786961057446,null,0.013395175522293967,0.09939194725279876,null,0.09629924374901122,0.09939194725279876,null,0.09629924374901122,0.1778083357780551,null,0.09629924374901122,0.10847868881372369,null,0.09629924374901122,0.003579160929737313,null,0.09629924374901122,0.15749612146055303,null,0.09629924374901122,0.010944774553816261,null,0.09629924374901122,0.11888725881951445,null,0.8416052776765105,0.8605048946284823,null,0.8416052776765105,0.8505491285697463,null,0.8416052776765105,0.7827951660062367,null,0.10523185275454483,0.17876385113042603,null,0.10523185275454483,0.0025276603056151314,null,0.10523185275454483,0.10700218283874208,null,0.10523185275454483,0.01577302908707623,null,0.10523185275454483,0.06483572890148548,null,0.10523185275454483,0.021356510526583383,null,0.10523185275454483,0.05822467472226489,null,0.10523185275454483,0.0916311591213329,null,0.10523185275454483,0.17638674811738841,null,0.10523185275454483,0.05168264246218679,null,0.8362330124652516,0.7910367374444575,null,0.8362330124652516,0.8560945868866366,null,0.8605048946284823,0.8505491285697463,null,0.8605048946284823,0.7827951660062367,null,0.9915438864750425,0.902602572105231,null,0.9915438864750425,0.9777017067610998,null,0.9915438864750425,0.9416144726523906,null,0.9915438864750425,0.9135054230138201,null,0.9915438864750425,0.8999754588445371,null,0.9915438864750425,0.9368126170858241,null,0.9915438864750425,0.9484520442410082,null,0.9915438864750425,0.9007727383596961,null,0.9915438864750425,0.9752082558035422,null,0.9915438864750425,0.9865708038698079,null,0.9590915793402797,0.902602572105231,null,0.9590915793402797,0.8536717768090112,null,0.9590915793402797,0.8966013633762772,null,0.9590915793402797,0.8999754588445371,null,0.9590915793402797,0.866465343984483,null,0.9590915793402797,0.9007727383596961,null,0.9590915793402797,0.9752082558035422,null,0.019038654312287684,0.07183392430391289,null,0.019038654312287684,0.11011717905623153,null,0.019038654312287684,0.11989641633677661,null,0.019038654312287684,0.08165623778378794,null,0.8575000024138825,0.9584374698716175,null,0.8575000024138825,0.9416144726523906,null,0.8575000024138825,0.8390511986084478,null,0.8575000024138825,0.9135054230138201,null,0.8575000024138825,0.8453571362343341,null,0.2801551214679343,0.17876385113042603,null,0.2801551214679343,0.25011341770570183,null,0.2801551214679343,0.2687507007172456,null,0.2801551214679343,0.25473121296631607,null,0.2801551214679343,0.3400685782746127,null,0.7723847640757219,0.8390511986084478,null,0.7723847640757219,0.8453571362343341,null,0.7723847640757219,0.7635786961057446,null,0.07183392430391289,0.11011717905623153,null,0.07183392430391289,0.10075161179095016,null,0.07183392430391289,0.11989641633677661,null,0.07183392430391289,0.08165623778378794,null,0.7651041260565234,0.7362436139625441,null,0.7651041260565234,0.6747245118293439,null,0.7651041260565234,0.739597775860374,null,0.7651041260565234,0.8536717768090112,null,0.7651041260565234,0.866465343984483,null,0.7651041260565234,0.7549919811123429,null,0.7651041260565234,0.7307320281468533,null,0.18111266215632227,0.17876385113042603,null,0.18111266215632227,0.25011341770570183,null,0.18111266215632227,0.20092361039179896,null,0.18111266215632227,0.10700218283874208,null,0.18111266215632227,0.10075161179095016,null,0.18111266215632227,0.2687507007172456,null,0.18111266215632227,0.0916311591213329,null,0.18111266215632227,0.2830864026722918,null,0.7362436139625441,0.6747245118293439,null,0.7362436139625441,0.739597775860374,null,0.7362436139625441,0.647222431993436,null,0.7362436139625441,0.7117841877232606,null,0.7362436139625441,0.7549919811123429,null,0.7362436139625441,0.7307320281468533,null,0.17876385113042603,0.25011341770570183,null,0.17876385113042603,0.10700218283874208,null,0.17876385113042603,0.05822467472226489,null,0.17876385113042603,0.0916311591213329,null,0.17876385113042603,0.25473121296631607,null,0.17876385113042603,0.17638674811738841,null,0.5264889040111038,0.4688894802854542,null,0.5264889040111038,0.5825379601901369,null,0.5264889040111038,0.441445841881293,null,0.5264889040111038,0.4689441380212228,null,0.902602572105231,0.9777017067610998,null,0.902602572105231,0.9416144726523906,null,0.902602572105231,0.9135054230138201,null,0.902602572105231,0.8536717768090112,null,0.902602572105231,0.8966013633762772,null,0.902602572105231,0.8999754588445371,null,0.902602572105231,0.9368126170858241,null,0.902602572105231,0.866465343984483,null,0.902602572105231,0.9484520442410082,null,0.902602572105231,0.9007727383596961,null,0.902602572105231,0.9752082558035422,null,0.902602572105231,0.9865708038698079,null,0.3621484376183073,0.26462363718650983,null,0.3621484376183073,0.3194147225952906,null,0.3621484376183073,0.34509147208996327,null,0.3621484376183073,0.27546077838291716,null,0.3621484376183073,0.37951916912448147,null,0.3621484376183073,0.3187679555964734,null,0.3621484376183073,0.3294690594497872,null,0.26462363718650983,0.3194147225952906,null,0.26462363718650983,0.21993784449872134,null,0.26462363718650983,0.2361962809578979,null,0.26462363718650983,0.15749612146055303,null,0.26462363718650983,0.34509147208996327,null,0.26462363718650983,0.27546077838291716,null,0.26462363718650983,0.2600105962843374,null,0.26462363718650983,0.3187679555964734,null,0.26462363718650983,0.3294690594497872,null,0.29083482260139026,0.20092361039179896,null,0.29083482260139026,0.2798492646335802,null,0.29083482260139026,0.3480636114852065,null,0.29083482260139026,0.40652472009580887,null,0.29083482260139026,0.22860173614133006,null,0.29083482260139026,0.27092551660948294,null,0.29083482260139026,0.3331164961558588,null,0.29083482260139026,0.2830864026722918,null,0.0014328257103323194,0.10700218283874208,null,0.0014328257103323194,0.0244956028964064,null,0.0014328257103323194,0.06483572890148548,null,0.0014328257103323194,0.0916311591213329,null,0.7910367374444575,0.6728473393606034,null,0.7910367374444575,0.7038566783105124,null,0.7910367374444575,0.8560945868866366,null,0.0025276603056151314,0.01577302908707623,null,0.0025276603056151314,0.021356510526583383,null,0.0025276603056151314,0.05822467472226489,null,0.0025276603056151314,0.05168264246218679,null,0.6611641671855606,0.6837954028890589,null,0.6611641671855606,0.6882716836122206,null,0.6611641671855606,0.6791388047817615,null,0.6611641671855606,0.632599445291796,null,0.6611641671855606,0.7827951660062367,null,0.9584374698716175,0.9416144726523906,null,0.9584374698716175,0.8390511986084478,null,0.9584374698716175,0.9135054230138201,null,0.9584374698716175,0.8453571362343341,null,0.9825987767535134,0.9811792333231781,null,0.11011717905623153,0.21721616996053605,null,0.11011717905623153,0.17998389116083902,null,0.11011717905623153,0.1458811437763483,null,0.11011717905623153,0.1431669876546734,null,0.11011717905623153,0.11989641633677661,null,0.11011717905623153,0.08165623778378794,null,0.6747245118293439,0.739597775860374,null,0.6747245118293439,0.7549919811123429,null,0.6747245118293439,0.7307320281468533,null,0.25011341770570183,0.2798492646335802,null,0.25011341770570183,0.2687507007172456,null,0.25011341770570183,0.3400685782746127,null,0.25011341770570183,0.2830864026722918,null,0.6837954028890589,0.6882716836122206,null,0.6837954028890589,0.6791388047817615,null,0.6837954028890589,0.7866461737014527,null,0.6837954028890589,0.7635786961057446,null,0.20092361039179896,0.2798492646335802,null,0.20092361039179896,0.10075161179095016,null,0.20092361039179896,0.11989641633677661,null,0.20092361039179896,0.22860173614133006,null,0.20092361039179896,0.27092551660948294,null,0.20092361039179896,0.2830864026722918,null,0.10700218283874208,0.0244956028964064,null,0.10700218283874208,0.06483572890148548,null,0.10700218283874208,0.05822467472226489,null,0.10700218283874208,0.0916311591213329,null,0.09939194725279876,0.10847868881372369,null,0.09939194725279876,0.003579160929737313,null,0.09939194725279876,0.21993784449872134,null,0.09939194725279876,0.15749612146055303,null,0.09939194725279876,0.1431669876546734,null,0.2798492646335802,0.3480636114852065,null,0.2798492646335802,0.2687507007172456,null,0.2798492646335802,0.22860173614133006,null,0.2798492646335802,0.27092551660948294,null,0.2798492646335802,0.3400685782746127,null,0.2798492646335802,0.3331164961558588,null,0.2798492646335802,0.2830864026722918,null,0.9777017067610998,0.9416144726523906,null,0.9777017067610998,0.9135054230138201,null,0.9777017067610998,0.8966013633762772,null,0.9777017067610998,0.8999754588445371,null,0.9777017067610998,0.9368126170858241,null,0.9777017067610998,0.9484520442410082,null,0.9777017067610998,0.9007727383596961,null,0.9777017067610998,0.9752082558035422,null,0.9777017067610998,0.9865708038698079,null,0.21721616996053605,0.17998389116083902,null,0.21721616996053605,0.1458811437763483,null,0.01577302908707623,0.06483572890148548,null,0.01577302908707623,0.021356510526583383,null,0.01577302908707623,0.05822467472226489,null,0.01577302908707623,0.05168264246218679,null,0.6728473393606034,0.5696929273032818,null,0.6728473393606034,0.6319014921998949,null,0.6728473393606034,0.7038566783105124,null,0.6728473393606034,0.6176839181344532,null,0.6728473393606034,0.6398372711939675,null,0.1397067507481281,0.1778083357780551,null,0.1397067507481281,0.07279649120577358,null,0.1397067507481281,0.10847868881372369,null,0.1397067507481281,0.17324773468720966,null,0.1397067507481281,0.11888725881951445,null,0.4465500162431618,0.4089683820550202,null,0.4465500162431618,0.48538571726298785,null,0.4465500162431618,0.3400685782746127,null,0.0244956028964064,0.06483572890148548,null,0.0244956028964064,0.10075161179095016,null,0.0244956028964064,0.0916311591213329,null,0.3480636114852065,0.40652472009580887,null,0.3480636114852065,0.22860173614133006,null,0.3480636114852065,0.27092551660948294,null,0.3480636114852065,0.3400685782746127,null,0.3480636114852065,0.3331164961558588,null,0.3480636114852065,0.2830864026722918,null,0.06483572890148548,0.021356510526583383,null,0.06483572890148548,0.05822467472226489,null,0.06483572890148548,0.0916311591213329,null,0.06483572890148548,0.05168264246218679,null,0.9416144726523906,0.9135054230138201,null,0.9416144726523906,0.8453571362343341,null,0.9416144726523906,0.9368126170858241,null,0.9416144726523906,0.9484520442410082,null,0.9416144726523906,0.9752082558035422,null,0.9416144726523906,0.9865708038698079,null,0.8390511986084478,0.9135054230138201,null,0.8390511986084478,0.8453571362343341,null,0.10075161179095016,0.11989641633677661,null,0.10075161179095016,0.08165623778378794,null,0.3194147225952906,0.34509147208996327,null,0.3194147225952906,0.27546077838291716,null,0.3194147225952906,0.37951916912448147,null,0.3194147225952906,0.3294690594497872,null,0.4089683820550202,0.48538571726298785,null,0.4089683820550202,0.3400685782746127,null,0.1778083357780551,0.07279649120577358,null,0.1778083357780551,0.10847868881372369,null,0.1778083357780551,0.17324773468720966,null,0.1778083357780551,0.2600105962843374,null,0.1778083357780551,0.11888725881951445,null,0.9135054230138201,0.8453571362343341,null,0.9135054230138201,0.9368126170858241,null,0.9135054230138201,0.9484520442410082,null,0.9135054230138201,0.9752082558035422,null,0.9135054230138201,0.9865708038698079,null,0.4688894802854542,0.5014439547732668,null,0.4688894802854542,0.37951916912448147,null,0.4688894802854542,0.441445841881293,null,0.4688894802854542,0.4689441380212228,null,0.07279649120577358,0.10847868881372369,null,0.07279649120577358,0.17324773468720966,null,0.07279649120577358,0.010944774553816261,null,0.07279649120577358,0.009546929880308364,null,0.07279649120577358,0.11888725881951445,null,0.6882716836122206,0.6791388047817615,null,0.6882716836122206,0.7827951660062367,null,0.6882716836122206,0.7866461737014527,null,0.17998389116083902,0.1458811437763483,null,0.17998389116083902,0.11989641633677661,null,0.1458811437763483,0.1431669876546734,null,0.739597775860374,0.647222431993436,null,0.739597775860374,0.7117841877232606,null,0.739597775860374,0.7549919811123429,null,0.739597775860374,0.7307320281468533,null,0.6791388047817615,0.7827951660062367,null,0.10847868881372369,0.003579160929737313,null,0.10847868881372369,0.17324773468720966,null,0.10847868881372369,0.15749612146055303,null,0.10847868881372369,0.010944774553816261,null,0.10847868881372369,0.009546929880308364,null,0.10847868881372369,0.11888725881951445,null,0.5696929273032818,0.6319014921998949,null,0.5696929273032818,0.48538571726298785,null,0.5696929273032818,0.5386364773512996,null,0.5696929273032818,0.6176839181344532,null,0.5696929273032818,0.6398372711939675,null,0.003579160929737313,0.010944774553816261,null,0.003579160929737313,0.009546929880308364,null,0.8536717768090112,0.8966013633762772,null,0.8536717768090112,0.8999754588445371,null,0.8536717768090112,0.866465343984483,null,0.8536717768090112,0.9007727383596961,null,0.021356510526583383,0.05822467472226489,null,0.021356510526583383,0.0916311591213329,null,0.021356510526583383,0.05168264246218679,null,0.8966013633762772,0.8999754588445371,null,0.8966013633762772,0.9368126170858241,null,0.8966013633762772,0.866465343984483,null,0.8966013633762772,0.9484520442410082,null,0.8966013633762772,0.9007727383596961,null,0.8966013633762772,0.9752082558035422,null,0.9982785499916703,0.881497298498418,null,0.2687507007172456,0.3400685782746127,null,0.2687507007172456,0.2830864026722918,null,0.17324773468720966,0.2600105962843374,null,0.17324773468720966,0.11888725881951445,null,0.21993784449872134,0.2361962809578979,null,0.21993784449872134,0.15749612146055303,null,0.21993784449872134,0.27546077838291716,null,0.21993784449872134,0.2600105962843374,null,0.21993784449872134,0.3187679555964734,null,0.40652472009580887,0.5291775952064607,null,0.40652472009580887,0.3400685782746127,null,0.40652472009580887,0.3331164961558588,null,0.40652472009580887,0.2830864026722918,null,0.2361962809578979,0.15749612146055303,null,0.2361962809578979,0.27546077838291716,null,0.2361962809578979,0.2600105962843374,null,0.2361962809578979,0.3187679555964734,null,0.647222431993436,0.7117841877232606,null,0.647222431993436,0.5825379601901369,null,0.647222431993436,0.7549919811123429,null,0.647222431993436,0.7307320281468533,null,0.15749612146055303,0.1431669876546734,null,0.15749612146055303,0.27546077838291716,null,0.7117841877232606,0.7549919811123429,null,0.7117841877232606,0.7307320281468533,null,0.6319014921998949,0.7038566783105124,null,0.6319014921998949,0.5386364773512996,null,0.6319014921998949,0.6176839181344532,null,0.6319014921998949,0.6398372711939675,null,0.34509147208996327,0.27546077838291716,null,0.34509147208996327,0.37951916912448147,null,0.34509147208996327,0.3187679555964734,null,0.34509147208996327,0.3294690594497872,null,0.010944774553816261,0.009546929880308364,null,0.27546077838291716,0.2600105962843374,null,0.27546077838291716,0.3187679555964734,null,0.27546077838291716,0.3294690594497872,null,0.05822467472226489,0.0916311591213329,null,0.05822467472226489,0.05168264246218679,null,0.5014439547732668,0.441445841881293,null,0.5014439547732668,0.4689441380212228,null,0.7827951660062367,0.7866461737014527,null,0.8999754588445371,0.9368126170858241,null,0.8999754588445371,0.866465343984483,null,0.8999754588445371,0.9484520442410082,null,0.8999754588445371,0.9007727383596961,null,0.8999754588445371,0.9752082558035422,null,0.8999754588445371,0.9865708038698079,null,0.7038566783105124,0.6176839181344532,null,0.7038566783105124,0.6398372711939675,null,0.9368126170858241,0.866465343984483,null,0.9368126170858241,0.9484520442410082,null,0.9368126170858241,0.9007727383596961,null,0.9368126170858241,0.9752082558035422,null,0.9368126170858241,0.9865708038698079,null,0.47020099688943884,0.4773509673360965,null,0.47020099688943884,0.5033581078822806,null,0.47020099688943884,0.5083198738755778,null,0.7866461737014527,0.7635786961057446,null,0.7866461737014527,0.881497298498418,null,0.0916311591213329,0.05168264246218679,null,0.866465343984483,0.9007727383596961,null,0.9484520442410082,0.9007727383596961,null,0.9484520442410082,0.9752082558035422,null,0.9484520442410082,0.9865708038698079,null,0.48538571726298785,0.5386364773512996,null,0.11989641633677661,0.22860173614133006,null,0.11989641633677661,0.08165623778378794,null,0.4773509673360965,0.5033581078822806,null,0.22860173614133006,0.27092551660948294,null,0.22860173614133006,0.3331164961558588,null,0.22860173614133006,0.2830864026722918,null,0.25473121296631607,0.17638674811738841,null,0.27092551660948294,0.3331164961558588,null,0.27092551660948294,0.2830864026722918,null,0.7635786961057446,0.881497298498418,null,0.7549919811123429,0.7307320281468533,null,0.9007727383596961,0.9752082558035422,null,0.9007727383596961,0.9865708038698079,null,0.9752082558035422,0.9865708038698079,null,0.37951916912448147,0.441445841881293,null,0.37951916912448147,0.3294690594497872,null,0.3400685782746127,0.3331164961558588,null,0.3400685782746127,0.2830864026722918,null,0.3331164961558588,0.2830864026722918,null,0.009546929880308364,0.11888725881951445,null,0.2600105962843374,0.3187679555964734,null,0.5386364773512996,0.6176839181344532,null,0.5386364773512996,0.6398372711939675,null,0.3187679555964734,0.3294690594497872,null,0.441445841881293,0.4689441380212228,null,0.6176839181344532,0.6398372711939675,null],\"y\":[0.13206338227056424,0.10846150113457165,null,0.13206338227056424,0.10429410299249064,null,0.13206338227056424,0.1318675461538522,null,0.13206338227056424,0.15338238223836542,null,0.13206338227056424,0.12367588427238052,null,0.13206338227056424,0.0728156738055985,null,0.13206338227056424,0.13185122400462224,null,0.13206338227056424,0.0665366267069809,null,0.13206338227056424,0.13223871569224144,null,0.13206338227056424,0.1284947279397266,null,0.13206338227056424,0.06572988051718542,null,0.13206338227056424,0.07290646243410781,null,0.1400883913811709,0.08025069449655275,null,0.1400883913811709,0.18207246632831364,null,0.1400883913811709,0.15472005414356005,null,0.1400883913811709,0.031042644425127497,null,0.1400883913811709,0.0768667577559573,null,0.1400883913811709,0.24499617017585018,null,0.853198867518272,0.8753948197263014,null,0.853198867518272,0.8217170008503681,null,0.853198867518272,0.8945527129011892,null,0.853198867518272,0.7910567457918393,null,0.853198867518272,0.8736077219451726,null,0.853198867518272,0.8335425195809806,null,0.853198867518272,0.8428384306307246,null,0.853198867518272,0.7868633343188038,null,0.853198867518272,0.8386784856191232,null,0.853198867518272,0.7521430497017503,null,0.853198867518272,0.9606314706066214,null,0.853198867518272,0.7754621870729101,null,0.853198867518272,0.7977591527781196,null,0.5777589619470008,0.562622394367668,null,0.5777589619470008,0.6806484547914053,null,0.5777589619470008,0.6383584290844584,null,0.5777589619470008,0.5647453438419185,null,0.5777589619470008,0.5092907577607841,null,0.5777589619470008,0.6426177252074016,null,0.5777589619470008,0.5646954858532246,null,0.5777589619470008,0.5448068853035254,null,0.6863744621338141,0.6846613127998372,null,0.6863744621338141,0.6223146544591149,null,0.6863744621338141,0.7138971476010423,null,0.6863744621338141,0.6852472123599623,null,0.6863744621338141,0.576079796152717,null,0.6863744621338141,0.7868633343188038,null,0.6863744621338141,0.6443385565205855,null,0.6863744621338141,0.7184625964666408,null,0.6863744621338141,0.7521430497017503,null,0.6863744621338141,0.7189278261816017,null,0.6863744621338141,0.6617793290673275,null,0.6863744621338141,0.7754621870729101,null,0.6846613127998372,0.6223146544591149,null,0.6846613127998372,0.6006493478637261,null,0.6846613127998372,0.7138971476010423,null,0.6846613127998372,0.6852472123599623,null,0.6846613127998372,0.6496458788096473,null,0.6846613127998372,0.7249356670962243,null,0.6846613127998372,0.6443385565205855,null,0.6846613127998372,0.7184625964666408,null,0.6846613127998372,0.6617793290673275,null,0.10846150113457165,0.1318675461538522,null,0.10846150113457165,0.15338238223836542,null,0.10846150113457165,0.12367588427238052,null,0.10846150113457165,0.13185122400462224,null,0.10846150113457165,0.0665366267069809,null,0.10846150113457165,0.21534669160755948,null,0.10846150113457165,0.1284947279397266,null,0.10846150113457165,0.06572988051718542,null,0.31206666722373644,0.4242185860748404,null,0.31206666722373644,0.28610267020824254,null,0.31206666722373644,0.2542907191761483,null,0.31206666722373644,0.24032507845041706,null,0.31206666722373644,0.37620272069566685,null,0.31206666722373644,0.23331358903470656,null,0.31206666722373644,0.36830223469703316,null,0.31206666722373644,0.3536576866968778,null,0.31206666722373644,0.21534669160755948,null,0.31206666722373644,0.2733611084199207,null,0.31206666722373644,0.36935506568605647,null,0.8753948197263014,0.8217170008503681,null,0.8753948197263014,0.7910567457918393,null,0.8753948197263014,0.8335425195809806,null,0.8753948197263014,0.8386784856191232,null,0.8753948197263014,0.9606314706066214,null,0.8753948197263014,0.9044056823997777,null,0.8753948197263014,0.7861579896137485,null,0.256675087918821,0.2553520534169691,null,0.256675087918821,0.3403187218710092,null,0.256675087918821,0.15338238223836542,null,0.256675087918821,0.35375544140157356,null,0.256675087918821,0.3729112624276608,null,0.256675087918821,0.25495490154003897,null,0.3525467352865247,0.25267912552958816,null,0.3525467352865247,0.2674071762664134,null,0.3525467352865247,0.4585150608031845,null,0.3525467352865247,0.3721224903289072,null,0.3525467352865247,0.2801961963068069,null,0.3525467352865247,0.36906848920195334,null,0.3525467352865247,0.35756299866446284,null,0.3525467352865247,0.3567643554582366,null,0.3525467352865247,0.4512052763986564,null,0.3525467352865247,0.3965660776002923,null,0.3525467352865247,0.42049444936255864,null,0.3525467352865247,0.3500986269113818,null,0.25267912552958816,0.2674071762664134,null,0.25267912552958816,0.18993973573359335,null,0.25267912552958816,0.16638633699315786,null,0.25267912552958816,0.2801961963068069,null,0.25267912552958816,0.15775674709328613,null,0.25267912552958816,0.24045480152008136,null,0.25267912552958816,0.36906848920195334,null,0.25267912552958816,0.35756299866446284,null,0.25267912552958816,0.24936223043865824,null,0.25267912552958816,0.2733611084199207,null,0.25267912552958816,0.3500986269113818,null,0.4242185860748404,0.4153594358290147,null,0.4242185860748404,0.35756299866446284,null,0.4242185860748404,0.37620272069566685,null,0.4242185860748404,0.36830223469703316,null,0.4242185860748404,0.42049444936255864,null,0.4242185860748404,0.36935506568605647,null,0.4242185860748404,0.3500986269113818,null,0.8112417631349821,0.7138971476010423,null,0.8112417631349821,0.797658094193114,null,0.8112417631349821,0.8359524625173449,null,0.8112417631349821,0.8031645893593787,null,0.8112417631349821,0.7249356670962243,null,0.8112417631349821,0.7184625964666408,null,0.8112417631349821,0.8976676242753269,null,0.8112417631349821,0.8585924133262385,null,0.8112417631349821,0.8189699214447705,null,0.8112417631349821,0.9079766444801124,null,0.8112417631349821,0.8042984161709225,null,0.8112417631349821,0.8508675884163955,null,0.8112417631349821,0.8209848926922901,null,0.8112417631349821,0.7826171088003439,null,0.8217170008503681,0.7910567457918393,null,0.8217170008503681,0.8736077219451726,null,0.8217170008503681,0.8335425195809806,null,0.8217170008503681,0.8428384306307246,null,0.8217170008503681,0.7868633343188038,null,0.8217170008503681,0.8386784856191232,null,0.8217170008503681,0.7521430497017503,null,0.8217170008503681,0.7165109564587022,null,0.8217170008503681,0.7189278261816017,null,0.8217170008503681,0.7754621870729101,null,0.8217170008503681,0.7977591527781196,null,0.644129486227448,0.5499107185032536,null,0.644129486227448,0.6383584290844584,null,0.644129486227448,0.7165109564587022,null,0.644129486227448,0.7189278261816017,null,0.644129486227448,0.6607620595645517,null,0.05011495849101777,0.020051988802921916,null,0.05011495849101777,0.16638633699315786,null,0.05011495849101777,0.08222814101505638,null,0.4951785735678912,0.5499107185032536,null,0.4951785735678912,0.4686559009328308,null,0.4951785735678912,0.40658543786097434,null,0.4951785735678912,0.3729112624276608,null,0.4951785735678912,0.5366870146411503,null,0.2674071762664134,0.3721224903289072,null,0.2674071762664134,0.18993973573359335,null,0.2674071762664134,0.2801961963068069,null,0.2674071762664134,0.15775674709328613,null,0.2674071762664134,0.24045480152008136,null,0.2674071762664134,0.36906848920195334,null,0.2674071762664134,0.22551472427035935,null,0.2674071762664134,0.21759516278485524,null,0.2674071762664134,0.3567643554582366,null,0.2674071762664134,0.24936223043865824,null,0.2674071762664134,0.21928731930996903,null,0.38711134748209475,0.4394790544518512,null,0.38711134748209475,0.4493151509083253,null,0.38711134748209475,0.39927440629914346,null,0.38711134748209475,0.47160608567373685,null,0.38711134748209475,0.34453307901786945,null,0.2553520534169691,0.3403187218710092,null,0.2553520534169691,0.15472005414356005,null,0.2553520534169691,0.2799667660785883,null,0.2553520534169691,0.2905121013352788,null,0.2553520534169691,0.24499617017585018,null,0.2553520534169691,0.35367408905725173,null,0.3403187218710092,0.417248748531424,null,0.3403187218710092,0.396468662533182,null,0.3403187218710092,0.35375544140157356,null,0.3403187218710092,0.40658543786097434,null,0.3403187218710092,0.3729112624276608,null,0.3403187218710092,0.35367408905725173,null,0.3403187218710092,0.4374145077230933,null,0.4394790544518512,0.4493151509083253,null,0.4394790544518512,0.39927440629914346,null,0.4394790544518512,0.4622981845501348,null,0.4394790544518512,0.47160608567373685,null,0.4394790544518512,0.509866075867311,null,0.4394790544518512,0.34453307901786945,null,0.08025069449655275,0.18207246632831364,null,0.08025069449655275,0.031042644425127497,null,0.08025069449655275,0.0164750767467301,null,0.8945527129011892,0.8736077219451726,null,0.8945527129011892,0.8335425195809806,null,0.8945527129011892,0.8428384306307246,null,0.8945527129011892,0.8359524625173449,null,0.8945527129011892,0.9244736717726737,null,0.8945527129011892,0.8976676242753269,null,0.8945527129011892,0.8585924133262385,null,0.8945527129011892,0.9079766444801124,null,0.8945527129011892,0.8508675884163955,null,0.8945527129011892,0.7977591527781196,null,0.10429410299249064,0.1318675461538522,null,0.10429410299249064,0.0585580603195035,null,0.10429410299249064,0.15338238223836542,null,0.10429410299249064,0.0768667577559573,null,0.10429410299249064,0.0728156738055985,null,0.10429410299249064,0.13185122400462224,null,0.10429410299249064,0.0665366267069809,null,0.10429410299249064,0.13223871569224144,null,0.10429410299249064,0.06572988051718542,null,0.10429410299249064,0.07290646243410781,null,0.7910567457918393,0.8736077219451726,null,0.7910567457918393,0.8335425195809806,null,0.7910567457918393,0.8428384306307246,null,0.7910567457918393,0.7868633343188038,null,0.7910567457918393,0.8386784856191232,null,0.7910567457918393,0.7521430497017503,null,0.7910567457918393,0.7165109564587022,null,0.7910567457918393,0.7189278261816017,null,0.7910567457918393,0.7754621870729101,null,0.7910567457918393,0.7977591527781196,null,0.4585150608031845,0.5749958037362465,null,0.4585150608031845,0.4153594358290147,null,0.4585150608031845,0.36906848920195334,null,0.4585150608031845,0.35756299866446284,null,0.4585150608031845,0.5397842097996284,null,0.4585150608031845,0.5342486747136697,null,0.4585150608031845,0.4512052763986564,null,0.4585150608031845,0.3965660776002923,null,0.4585150608031845,0.42049444936255864,null,0.3256171543780013,0.3721224903289072,null,0.3256171543780013,0.44020005102645576,null,0.3256171543780013,0.266207030748734,null,0.3256171543780013,0.29016129077247665,null,0.3256171543780013,0.21759516278485524,null,0.3256171543780013,0.3567643554582366,null,0.9189044416670452,0.9448813730539657,null,0.9189044416670452,0.8137197356857082,null,0.9189044416670452,0.9585025221133833,null,0.9189044416670452,0.89132824516459,null,0.9189044416670452,0.9479477597955411,null,0.9189044416670452,0.8652559208749917,null,0.9189044416670452,0.915147570813847,null,0.9189044416670452,0.848009810526465,null,0.9189044416670452,0.9193915752249041,null,0.9189044416670452,0.9281973633109588,null,0.417248748531424,0.396468662533182,null,0.417248748531424,0.4493151509083253,null,0.417248748531424,0.4622981845501348,null,0.417248748531424,0.35367408905725173,null,0.417248748531424,0.4374145077230933,null,0.417248748531424,0.509866075867311,null,0.12117397319633583,0.08605576510924695,null,0.12117397319633583,0.18993973573359335,null,0.12117397319633583,0.1273230257029786,null,0.12117397319633583,0.15775674709328613,null,0.12117397319633583,0.22551472427035935,null,0.12117397319633583,0.11612136502215753,null,0.12117397319633583,0.21759516278485524,null,0.12117397319633583,0.11681613436841753,null,0.12117397319633583,0.14309306547806122,null,0.12117397319633583,0.21928731930996903,null,0.12117397319633583,0.092848755420463,null,0.12117397319633583,0.10604100943090189,null,0.3721224903289072,0.44020005102645576,null,0.3721224903289072,0.2801961963068069,null,0.3721224903289072,0.36906848920195334,null,0.3721224903289072,0.29016129077247665,null,0.3721224903289072,0.3567643554582366,null,0.3721224903289072,0.4512052763986564,null,0.3721224903289072,0.4511195609043003,null,0.08605576510924695,0.18993973573359335,null,0.08605576510924695,0.1273230257029786,null,0.08605576510924695,0.15775674709328613,null,0.08605576510924695,0.11612136502215753,null,0.08605576510924695,0.11681613436841753,null,0.08605576510924695,0.14309306547806122,null,0.08605576510924695,0.092848755420463,null,0.08605576510924695,0.10604100943090189,null,0.8019401124385297,0.7244478806043951,null,0.8019401124385297,0.6806484547914053,null,0.8019401124385297,0.9044056823997777,null,0.8019401124385297,0.7861579896137485,null,0.5606094114941732,0.4920226432876553,null,0.5606094114941732,0.5425907760023081,null,0.5606094114941732,0.5949072601434926,null,0.5606094114941732,0.4511195609043003,null,0.18207246632831364,0.15472005414356005,null,0.18207246632831364,0.2589211037594161,null,0.18207246632831364,0.24499617017585018,null,0.396468662533182,0.4493151509083253,null,0.396468662533182,0.4622981845501348,null,0.396468662533182,0.2799667660785883,null,0.396468662533182,0.2905121013352788,null,0.396468662533182,0.35367408905725173,null,0.396468662533182,0.4374145077230933,null,0.4493151509083253,0.39927440629914346,null,0.4493151509083253,0.4622981845501348,null,0.4493151509083253,0.47160608567373685,null,0.4493151509083253,0.509866075867311,null,0.4493151509083253,0.34453307901786945,null,0.15472005414356005,0.0768667577559573,null,0.15472005414356005,0.24499617017585018,null,0.15472005414356005,0.13223871569224144,null,0.6223146544591149,0.6006493478637261,null,0.6223146544591149,0.6852472123599623,null,0.6223146544591149,0.576079796152717,null,0.6223146544591149,0.6443385565205855,null,0.6223146544591149,0.6617793290673275,null,0.6223146544591149,0.5366870146411503,null,0.39927440629914346,0.4622981845501348,null,0.39927440629914346,0.47160608567373685,null,0.39927440629914346,0.34453307901786945,null,0.28610267020824254,0.2542907191761483,null,0.28610267020824254,0.24032507845041706,null,0.28610267020824254,0.37620272069566685,null,0.28610267020824254,0.23331358903470656,null,0.28610267020824254,0.36830223469703316,null,0.28610267020824254,0.21534669160755948,null,0.28610267020824254,0.2733611084199207,null,0.28610267020824254,0.36935506568605647,null,0.8708650431300592,0.8130215001844282,null,0.8708650431300592,0.89132824516459,null,0.8708650431300592,0.8652559208749917,null,0.8708650431300592,0.915147570813847,null,0.8708650431300592,0.7712632510230159,null,0.8708650431300592,0.7663467803415752,null,0.8708650431300592,0.8356498410852161,null,0.8708650431300592,0.9281973633109588,null,0.6006493478637261,0.5881195962143181,null,0.6006493478637261,0.7138971476010423,null,0.6006493478637261,0.6852472123599623,null,0.6006493478637261,0.6496458788096473,null,0.6006493478637261,0.6443385565205855,null,0.6006493478637261,0.7184625964666408,null,0.6006493478637261,0.6617793290673275,null,0.6006493478637261,0.509866075867311,null,0.8130215001844282,0.7137088754211804,null,0.8130215001844282,0.7652575870230592,null,0.8130215001844282,0.8137197356857082,null,0.8130215001844282,0.72993131693085,null,0.8130215001844282,0.89132824516459,null,0.8130215001844282,0.8652559208749917,null,0.8130215001844282,0.915147570813847,null,0.8130215001844282,0.7712632510230159,null,0.8130215001844282,0.7663467803415752,null,0.8130215001844282,0.754475562721367,null,0.8130215001844282,0.7140916463967529,null,0.8130215001844282,0.8356498410852161,null,0.8130215001844282,0.7715066672310984,null,0.1318675461538522,0.15338238223836542,null,0.1318675461538522,0.12367588427238052,null,0.1318675461538522,0.0728156738055985,null,0.1318675461538522,0.13185122400462224,null,0.1318675461538522,0.0665366267069809,null,0.1318675461538522,0.13223871569224144,null,0.1318675461538522,0.1284947279397266,null,0.1318675461538522,0.06572988051718542,null,0.1318675461538522,0.07290646243410781,null,0.8736077219451726,0.8335425195809806,null,0.8736077219451726,0.8428384306307246,null,0.8736077219451726,0.7868633343188038,null,0.8736077219451726,0.8386784856191232,null,0.8736077219451726,0.7521430497017503,null,0.8736077219451726,0.9606314706066214,null,0.8736077219451726,0.7754621870729101,null,0.8736077219451726,0.7977591527781196,null,0.7244478806043951,0.6806484547914053,null,0.7244478806043951,0.6776150565946925,null,0.7244478806043951,0.6352590282705202,null,0.7244478806043951,0.6498493677974962,null,0.7244478806043951,0.7140916463967529,null,0.7244478806043951,0.6426177252074016,null,0.7244478806043951,0.7715066672310984,null,0.7244478806043951,0.6661583410631345,null,0.0585580603195035,0.031042644425127497,null,0.0585580603195035,0.0768667577559573,null,0.0585580603195035,0.0728156738055985,null,0.0585580603195035,0.0665366267069809,null,0.0585580603195035,0.13223871569224144,null,0.0585580603195035,0.06572988051718542,null,0.0585580603195035,0.07290646243410781,null,0.15338238223836542,0.12367588427238052,null,0.15338238223836542,0.0728156738055985,null,0.15338238223836542,0.13185122400462224,null,0.15338238223836542,0.25495490154003897,null,0.15338238223836542,0.0665366267069809,null,0.15338238223836542,0.13223871569224144,null,0.15338238223836542,0.1284947279397266,null,0.15338238223836542,0.06572988051718542,null,0.15338238223836542,0.07290646243410781,null,0.9448813730539657,0.9585025221133833,null,0.9448813730539657,0.9479477597955411,null,0.9448813730539657,0.8652559208749917,null,0.9448813730539657,0.848009810526465,null,0.9448813730539657,0.9193915752249041,null,0.9448813730539657,0.9281973633109588,null,0.7137088754211804,0.7652575870230592,null,0.7137088754211804,0.8137197356857082,null,0.7137088754211804,0.72993131693085,null,0.7137088754211804,0.7543965743867446,null,0.7137088754211804,0.5949072601434926,null,0.7137088754211804,0.7712632510230159,null,0.7137088754211804,0.7663467803415752,null,0.7137088754211804,0.754475562721367,null,0.7137088754211804,0.6566128602296604,null,0.7137088754211804,0.7140916463967529,null,0.5749958037362465,0.6097442264661888,null,0.5749958037362465,0.5425907760023081,null,0.5749958037362465,0.5397842097996284,null,0.5749958037362465,0.6352590282705202,null,0.5749958037362465,0.5342486747136697,null,0.5749958037362465,0.5949072601434926,null,0.5749958037362465,0.6566128602296604,null,0.9810120504454115,0.9809905295787408,null,0.9810120504454115,0.9483681500028751,null,0.9810120504454115,0.9044056823997777,null,0.9810120504454115,0.9999790847412505,null,0.9810120504454115,0.9858292561825103,null,0.8335425195809806,0.8428384306307246,null,0.8335425195809806,0.7868633343188038,null,0.8335425195809806,0.8386784856191232,null,0.8335425195809806,0.7521430497017503,null,0.8335425195809806,0.7189278261816017,null,0.8335425195809806,0.7754621870729101,null,0.8335425195809806,0.7977591527781196,null,0.562622394367668,0.6097442264661888,null,0.562622394367668,0.6776150565946925,null,0.562622394367668,0.6352590282705202,null,0.562622394367668,0.5647453438419185,null,0.562622394367668,0.6498493677974962,null,0.562622394367668,0.5092907577607841,null,0.562622394367668,0.6426177252074016,null,0.562622394367668,0.5646954858532246,null,0.562622394367668,0.5448068853035254,null,0.562622394367668,0.6661583410631345,null,0.4622981845501348,0.4374145077230933,null,0.4622981845501348,0.509866075867311,null,0.9809905295787408,0.9483681500028751,null,0.9809905295787408,0.9044056823997777,null,0.9809905295787408,0.9999790847412505,null,0.9809905295787408,0.9858292561825103,null,0.2542907191761483,0.24032507845041706,null,0.2542907191761483,0.23331358903470656,null,0.2542907191761483,0.3536576866968778,null,0.2542907191761483,0.21534669160755948,null,0.12367588427238052,0.13185122400462224,null,0.12367588427238052,0.0665366267069809,null,0.12367588427238052,0.21534669160755948,null,0.12367588427238052,0.1284947279397266,null,0.12367588427238052,0.06572988051718542,null,0.12367588427238052,0.07290646243410781,null,0.18993973573359335,0.1273230257029786,null,0.18993973573359335,0.16638633699315786,null,0.18993973573359335,0.2801961963068069,null,0.18993973573359335,0.15775674709328613,null,0.18993973573359335,0.24045480152008136,null,0.18993973573359335,0.22551472427035935,null,0.18993973573359335,0.21759516278485524,null,0.18993973573359335,0.14309306547806122,null,0.18993973573359335,0.21928731930996903,null,0.18993973573359335,0.092848755420463,null,0.5881195962143181,0.6496458788096473,null,0.5881195962143181,0.47160608567373685,null,0.7138971476010423,0.797658094193114,null,0.7138971476010423,0.6852472123599623,null,0.7138971476010423,0.8359524625173449,null,0.7138971476010423,0.6496458788096473,null,0.7138971476010423,0.8031645893593787,null,0.7138971476010423,0.7249356670962243,null,0.7138971476010423,0.6443385565205855,null,0.7138971476010423,0.7184625964666408,null,0.7138971476010423,0.6617793290673275,null,0.7138971476010423,0.8189699214447705,null,0.7138971476010423,0.8042984161709225,null,0.7138971476010423,0.7826171088003439,null,0.7652575870230592,0.8137197356857082,null,0.7652575870230592,0.7543965743867446,null,0.7652575870230592,0.8652559208749917,null,0.7652575870230592,0.7712632510230159,null,0.7652575870230592,0.7663467803415752,null,0.7652575870230592,0.754475562721367,null,0.7652575870230592,0.6566128602296604,null,0.6806484547914053,0.6383584290844584,null,0.6806484547914053,0.6776150565946925,null,0.6806484547914053,0.5647453438419185,null,0.6806484547914053,0.6607620595645517,null,0.6806484547914053,0.6426177252074016,null,0.6806484547914053,0.7861579896137485,null,0.6806484547914053,0.5646954858532246,null,0.6097442264661888,0.6776150565946925,null,0.6097442264661888,0.72993131693085,null,0.6097442264661888,0.5397842097996284,null,0.6097442264661888,0.6352590282705202,null,0.6097442264661888,0.6498493677974962,null,0.6097442264661888,0.7140916463967529,null,0.6097442264661888,0.6426177252074016,null,0.6097442264661888,0.6661583410631345,null,0.5499107185032536,0.576079796152717,null,0.5499107185032536,0.4686559009328308,null,0.5499107185032536,0.5366870146411503,null,0.6940387731628609,0.7543965743867446,null,0.8137197356857082,0.7543965743867446,null,0.8137197356857082,0.89132824516459,null,0.8137197356857082,0.8652559208749917,null,0.8137197356857082,0.8211360790045819,null,0.8137197356857082,0.754475562721367,null,0.8137197356857082,0.848009810526465,null,0.8137197356857082,0.9281973633109588,null,0.2799667660785883,0.2905121013352788,null,0.2799667660785883,0.24499617017585018,null,0.2799667660785883,0.35367408905725173,null,0.1273230257029786,0.15775674709328613,null,0.1273230257029786,0.06899868383828212,null,0.1273230257029786,0.22551472427035935,null,0.1273230257029786,0.11612136502215753,null,0.1273230257029786,0.21759516278485524,null,0.1273230257029786,0.11681613436841753,null,0.1273230257029786,0.14309306547806122,null,0.1273230257029786,0.21928731930996903,null,0.1273230257029786,0.092848755420463,null,0.1273230257029786,0.10604100943090189,null,0.031042644425127497,0.0768667577559573,null,0.031042644425127497,0.0164750767467301,null,0.2905121013352788,0.24499617017585018,null,0.2905121013352788,0.35367408905725173,null,0.797658094193114,0.8359524625173449,null,0.797658094193114,0.8031645893593787,null,0.797658094193114,0.7249356670962243,null,0.797658094193114,0.7184625964666408,null,0.797658094193114,0.8585924133262385,null,0.797658094193114,0.8189699214447705,null,0.797658094193114,0.8042984161709225,null,0.797658094193114,0.8508675884163955,null,0.797658094193114,0.8209848926922901,null,0.797658094193114,0.7826171088003439,null,0.9420272056942537,0.8359524625173449,null,0.9420272056942537,0.9244736717726737,null,0.9420272056942537,0.8976676242753269,null,0.9420272056942537,0.8585924133262385,null,0.9420272056942537,0.9079766444801124,null,0.9420272056942537,0.8508675884163955,null,0.9420272056942537,0.8209848926922901,null,0.4920226432876553,0.44020005102645576,null,0.4920226432876553,0.5425907760023081,null,0.4920226432876553,0.4512052763986564,null,0.4920226432876553,0.4511195609043003,null,0.6852472123599623,0.6496458788096473,null,0.6852472123599623,0.7249356670962243,null,0.6852472123599623,0.6443385565205855,null,0.6852472123599623,0.7184625964666408,null,0.6852472123599623,0.6617793290673275,null,0.16638633699315786,0.15775674709328613,null,0.16638633699315786,0.24045480152008136,null,0.16638633699315786,0.24936223043865824,null,0.16638633699315786,0.08222814101505638,null,0.16638633699315786,0.2733611084199207,null,0.576079796152717,0.6443385565205855,null,0.576079796152717,0.6617793290673275,null,0.576079796152717,0.5366870146411503,null,0.44020005102645576,0.5425907760023081,null,0.44020005102645576,0.3567643554582366,null,0.44020005102645576,0.4512052763986564,null,0.44020005102645576,0.4511195609043003,null,0.8428384306307246,0.7868633343188038,null,0.8428384306307246,0.8386784856191232,null,0.8428384306307246,0.7521430497017503,null,0.8428384306307246,0.9244736717726737,null,0.8428384306307246,0.9079766444801124,null,0.8428384306307246,0.7754621870729101,null,0.8428384306307246,0.7977591527781196,null,0.2801961963068069,0.15775674709328613,null,0.2801961963068069,0.24045480152008136,null,0.2801961963068069,0.36906848920195334,null,0.2801961963068069,0.22551472427035935,null,0.2801961963068069,0.3567643554582366,null,0.2801961963068069,0.24936223043865824,null,0.2801961963068069,0.21928731930996903,null,0.2801961963068069,0.3500986269113818,null,0.7868633343188038,0.8386784856191232,null,0.7868633343188038,0.7521430497017503,null,0.7868633343188038,0.7165109564587022,null,0.7868633343188038,0.7189278261816017,null,0.7868633343188038,0.7754621870729101,null,0.7868633343188038,0.7977591527781196,null,0.15775674709328613,0.24045480152008136,null,0.15775674709328613,0.22551472427035935,null,0.15775674709328613,0.14309306547806122,null,0.15775674709328613,0.21928731930996903,null,0.15775674709328613,0.08222814101505638,null,0.15775674709328613,0.092848755420463,null,0.6383584290844584,0.5647453438419185,null,0.6383584290844584,0.6607620595645517,null,0.6383584290844584,0.5646954858532246,null,0.6383584290844584,0.5448068853035254,null,0.8359524625173449,0.8031645893593787,null,0.8359524625173449,0.7249356670962243,null,0.8359524625173449,0.7184625964666408,null,0.8359524625173449,0.9244736717726737,null,0.8359524625173449,0.8976676242753269,null,0.8359524625173449,0.8585924133262385,null,0.8359524625173449,0.8189699214447705,null,0.8359524625173449,0.9079766444801124,null,0.8359524625173449,0.8042984161709225,null,0.8359524625173449,0.8508675884163955,null,0.8359524625173449,0.8209848926922901,null,0.8359524625173449,0.7826171088003439,null,0.6776150565946925,0.72993131693085,null,0.6776150565946925,0.6352590282705202,null,0.6776150565946925,0.6498493677974962,null,0.6776150565946925,0.7140916463967529,null,0.6776150565946925,0.6426177252074016,null,0.6776150565946925,0.7715066672310984,null,0.6776150565946925,0.6661583410631345,null,0.72993131693085,0.6352590282705202,null,0.72993131693085,0.7712632510230159,null,0.72993131693085,0.7663467803415752,null,0.72993131693085,0.754475562721367,null,0.72993131693085,0.6498493677974962,null,0.72993131693085,0.7140916463967529,null,0.72993131693085,0.8356498410852161,null,0.72993131693085,0.7715066672310984,null,0.72993131693085,0.6661583410631345,null,0.4153594358290147,0.36906848920195334,null,0.4153594358290147,0.35756299866446284,null,0.4153594358290147,0.37620272069566685,null,0.4153594358290147,0.36830223469703316,null,0.4153594358290147,0.3965660776002923,null,0.4153594358290147,0.42049444936255864,null,0.4153594358290147,0.36935506568605647,null,0.4153594358290147,0.3500986269113818,null,0.266207030748734,0.22551472427035935,null,0.266207030748734,0.29016129077247665,null,0.266207030748734,0.21759516278485524,null,0.266207030748734,0.21928731930996903,null,0.0768667577559573,0.0728156738055985,null,0.0768667577559573,0.13223871569224144,null,0.0768667577559573,0.0164750767467301,null,0.06899868383828212,0.11612136502215753,null,0.06899868383828212,0.11681613436841753,null,0.06899868383828212,0.14309306547806122,null,0.06899868383828212,0.10604100943090189,null,0.35375544140157356,0.4686559009328308,null,0.35375544140157356,0.40658543786097434,null,0.35375544140157356,0.3729112624276608,null,0.35375544140157356,0.25495490154003897,null,0.35375544140157356,0.35367408905725173,null,0.6496458788096473,0.7249356670962243,null,0.6496458788096473,0.6443385565205855,null,0.6496458788096473,0.7184625964666408,null,0.6496458788096473,0.6617793290673275,null,0.2589211037594161,0.34453307901786945,null,0.5425907760023081,0.5397842097996284,null,0.5425907760023081,0.5342486747136697,null,0.5425907760023081,0.5949072601434926,null,0.5425907760023081,0.6566128602296604,null,0.5425907760023081,0.4512052763986564,null,0.5425907760023081,0.4511195609043003,null,0.8386784856191232,0.7521430497017503,null,0.8386784856191232,0.7754621870729101,null,0.8386784856191232,0.7977591527781196,null,0.24045480152008136,0.35756299866446284,null,0.24045480152008136,0.24936223043865824,null,0.24045480152008136,0.2733611084199207,null,0.24045480152008136,0.3500986269113818,null,0.4686559009328308,0.40658543786097434,null,0.4686559009328308,0.3729112624276608,null,0.4686559009328308,0.4374145077230933,null,0.4686559009328308,0.5366870146411503,null,0.36906848920195334,0.35756299866446284,null,0.36906848920195334,0.3567643554582366,null,0.36906848920195334,0.4512052763986564,null,0.36906848920195334,0.3965660776002923,null,0.36906848920195334,0.42049444936255864,null,0.36906848920195334,0.3500986269113818,null,0.22551472427035935,0.29016129077247665,null,0.22551472427035935,0.21759516278485524,null,0.22551472427035935,0.14309306547806122,null,0.22551472427035935,0.21928731930996903,null,0.7543965743867446,0.8652559208749917,null,0.7543965743867446,0.8211360790045819,null,0.7543965743867446,0.7712632510230159,null,0.7543965743867446,0.754475562721367,null,0.7543965743867446,0.6566128602296604,null,0.35756299866446284,0.37620272069566685,null,0.35756299866446284,0.24936223043865824,null,0.35756299866446284,0.3965660776002923,null,0.35756299866446284,0.42049444936255864,null,0.35756299866446284,0.2733611084199207,null,0.35756299866446284,0.36935506568605647,null,0.35756299866446284,0.3500986269113818,null,0.8031645893593787,0.7249356670962243,null,0.8031645893593787,0.7184625964666408,null,0.8031645893593787,0.8976676242753269,null,0.8031645893593787,0.8585924133262385,null,0.8031645893593787,0.8189699214447705,null,0.8031645893593787,0.8042984161709225,null,0.8031645893593787,0.8508675884163955,null,0.8031645893593787,0.8209848926922901,null,0.8031645893593787,0.7826171088003439,null,0.5397842097996284,0.5342486747136697,null,0.5397842097996284,0.5949072601434926,null,0.11612136502215753,0.21759516278485524,null,0.11612136502215753,0.11681613436841753,null,0.11612136502215753,0.14309306547806122,null,0.11612136502215753,0.10604100943090189,null,0.0728156738055985,0.13185122400462224,null,0.0728156738055985,0.0665366267069809,null,0.0728156738055985,0.13223871569224144,null,0.0728156738055985,0.06572988051718542,null,0.0728156738055985,0.07290646243410781,null,0.9585025221133833,0.89132824516459,null,0.9585025221133833,0.9479477597955411,null,0.9585025221133833,0.8652559208749917,null,0.9585025221133833,0.915147570813847,null,0.9585025221133833,0.9281973633109588,null,0.24032507845041706,0.23331358903470656,null,0.24032507845041706,0.21534669160755948,null,0.24032507845041706,0.2733611084199207,null,0.29016129077247665,0.21759516278485524,null,0.29016129077247665,0.3567643554582366,null,0.29016129077247665,0.21928731930996903,null,0.37620272069566685,0.36830223469703316,null,0.37620272069566685,0.3965660776002923,null,0.37620272069566685,0.42049444936255864,null,0.37620272069566685,0.2733611084199207,null,0.37620272069566685,0.36935506568605647,null,0.37620272069566685,0.3500986269113818,null,0.21759516278485524,0.11681613436841753,null,0.21759516278485524,0.14309306547806122,null,0.21759516278485524,0.21928731930996903,null,0.21759516278485524,0.10604100943090189,null,0.7249356670962243,0.7184625964666408,null,0.7249356670962243,0.6617793290673275,null,0.7249356670962243,0.8189699214447705,null,0.7249356670962243,0.8042984161709225,null,0.7249356670962243,0.8209848926922901,null,0.7249356670962243,0.7826171088003439,null,0.6443385565205855,0.7184625964666408,null,0.6443385565205855,0.6617793290673275,null,0.3567643554582366,0.4512052763986564,null,0.3567643554582366,0.4511195609043003,null,0.6352590282705202,0.6498493677974962,null,0.6352590282705202,0.7140916463967529,null,0.6352590282705202,0.6426177252074016,null,0.6352590282705202,0.6661583410631345,null,0.23331358903470656,0.21534669160755948,null,0.23331358903470656,0.2733611084199207,null,0.89132824516459,0.9479477597955411,null,0.89132824516459,0.8652559208749917,null,0.89132824516459,0.915147570813847,null,0.89132824516459,0.8356498410852161,null,0.89132824516459,0.9281973633109588,null,0.7184625964666408,0.6617793290673275,null,0.7184625964666408,0.8189699214447705,null,0.7184625964666408,0.8042984161709225,null,0.7184625964666408,0.8209848926922901,null,0.7184625964666408,0.7826171088003439,null,0.5647453438419185,0.5092907577607841,null,0.5647453438419185,0.6426177252074016,null,0.5647453438419185,0.5646954858532246,null,0.5647453438419185,0.5448068853035254,null,0.9479477597955411,0.8652559208749917,null,0.9479477597955411,0.915147570813847,null,0.9479477597955411,0.848009810526465,null,0.9479477597955411,0.9193915752249041,null,0.9479477597955411,0.9281973633109588,null,0.40658543786097434,0.3729112624276608,null,0.40658543786097434,0.35367408905725173,null,0.40658543786097434,0.4374145077230933,null,0.5342486747136697,0.5949072601434926,null,0.5342486747136697,0.4512052763986564,null,0.5949072601434926,0.6566128602296604,null,0.7521430497017503,0.7165109564587022,null,0.7521430497017503,0.7189278261816017,null,0.7521430497017503,0.7754621870729101,null,0.7521430497017503,0.7977591527781196,null,0.3729112624276608,0.35367408905725173,null,0.8652559208749917,0.8211360790045819,null,0.8652559208749917,0.915147570813847,null,0.8652559208749917,0.754475562721367,null,0.8652559208749917,0.848009810526465,null,0.8652559208749917,0.9193915752249041,null,0.8652559208749917,0.9281973633109588,null,0.13185122400462224,0.0665366267069809,null,0.13185122400462224,0.21534669160755948,null,0.13185122400462224,0.1284947279397266,null,0.13185122400462224,0.06572988051718542,null,0.13185122400462224,0.07290646243410781,null,0.8211360790045819,0.848009810526465,null,0.8211360790045819,0.9193915752249041,null,0.9244736717726737,0.8976676242753269,null,0.9244736717726737,0.8585924133262385,null,0.9244736717726737,0.9079766444801124,null,0.9244736717726737,0.8508675884163955,null,0.11681613436841753,0.14309306547806122,null,0.11681613436841753,0.21928731930996903,null,0.11681613436841753,0.10604100943090189,null,0.8976676242753269,0.8585924133262385,null,0.8976676242753269,0.8189699214447705,null,0.8976676242753269,0.9079766444801124,null,0.8976676242753269,0.8042984161709225,null,0.8976676242753269,0.8508675884163955,null,0.8976676242753269,0.8209848926922901,null,0.47160608567373685,0.509866075867311,null,0.24936223043865824,0.2733611084199207,null,0.24936223043865824,0.3500986269113818,null,0.915147570813847,0.8356498410852161,null,0.915147570813847,0.9281973633109588,null,0.7712632510230159,0.7663467803415752,null,0.7712632510230159,0.754475562721367,null,0.7712632510230159,0.7140916463967529,null,0.7712632510230159,0.8356498410852161,null,0.7712632510230159,0.7715066672310984,null,0.36830223469703316,0.3536576866968778,null,0.36830223469703316,0.2733611084199207,null,0.36830223469703316,0.36935506568605647,null,0.36830223469703316,0.3500986269113818,null,0.7663467803415752,0.754475562721367,null,0.7663467803415752,0.7140916463967529,null,0.7663467803415752,0.8356498410852161,null,0.7663467803415752,0.7715066672310984,null,0.7165109564587022,0.7189278261816017,null,0.7165109564587022,0.6607620595645517,null,0.7165109564587022,0.7754621870729101,null,0.7165109564587022,0.7977591527781196,null,0.754475562721367,0.6566128602296604,null,0.754475562721367,0.7140916463967529,null,0.7189278261816017,0.7754621870729101,null,0.7189278261816017,0.7977591527781196,null,0.0665366267069809,0.13223871569224144,null,0.0665366267069809,0.1284947279397266,null,0.0665366267069809,0.06572988051718542,null,0.0665366267069809,0.07290646243410781,null,0.6498493677974962,0.7140916463967529,null,0.6498493677974962,0.6426177252074016,null,0.6498493677974962,0.7715066672310984,null,0.6498493677974962,0.6661583410631345,null,0.848009810526465,0.9193915752249041,null,0.7140916463967529,0.8356498410852161,null,0.7140916463967529,0.7715066672310984,null,0.7140916463967529,0.6661583410631345,null,0.14309306547806122,0.21928731930996903,null,0.14309306547806122,0.10604100943090189,null,0.5092907577607841,0.5646954858532246,null,0.5092907577607841,0.5448068853035254,null,0.35367408905725173,0.4374145077230933,null,0.8585924133262385,0.8189699214447705,null,0.8585924133262385,0.9079766444801124,null,0.8585924133262385,0.8042984161709225,null,0.8585924133262385,0.8508675884163955,null,0.8585924133262385,0.8209848926922901,null,0.8585924133262385,0.7826171088003439,null,0.13223871569224144,0.06572988051718542,null,0.13223871569224144,0.07290646243410781,null,0.8189699214447705,0.9079766444801124,null,0.8189699214447705,0.8042984161709225,null,0.8189699214447705,0.8508675884163955,null,0.8189699214447705,0.8209848926922901,null,0.8189699214447705,0.7826171088003439,null,0.9044056823997777,0.9999790847412505,null,0.9044056823997777,0.9858292561825103,null,0.9044056823997777,0.7861579896137485,null,0.4374145077230933,0.5366870146411503,null,0.4374145077230933,0.509866075867311,null,0.21928731930996903,0.10604100943090189,null,0.9079766444801124,0.8508675884163955,null,0.8042984161709225,0.8508675884163955,null,0.8042984161709225,0.8209848926922901,null,0.8042984161709225,0.7826171088003439,null,0.21534669160755948,0.1284947279397266,null,0.4512052763986564,0.3965660776002923,null,0.4512052763986564,0.4511195609043003,null,0.9999790847412505,0.9858292561825103,null,0.3965660776002923,0.42049444936255864,null,0.3965660776002923,0.36935506568605647,null,0.3965660776002923,0.3500986269113818,null,0.08222814101505638,0.092848755420463,null,0.42049444936255864,0.36935506568605647,null,0.42049444936255864,0.3500986269113818,null,0.5366870146411503,0.509866075867311,null,0.7754621870729101,0.7977591527781196,null,0.8508675884163955,0.8209848926922901,null,0.8508675884163955,0.7826171088003439,null,0.8209848926922901,0.7826171088003439,null,0.6426177252074016,0.5646954858532246,null,0.6426177252074016,0.6661583410631345,null,0.2733611084199207,0.36935506568605647,null,0.2733611084199207,0.3500986269113818,null,0.36935506568605647,0.3500986269113818,null,0.9193915752249041,0.9281973633109588,null,0.8356498410852161,0.7715066672310984,null,0.1284947279397266,0.06572988051718542,null,0.1284947279397266,0.07290646243410781,null,0.7715066672310984,0.6661583410631345,null,0.5646954858532246,0.5448068853035254,null,0.06572988051718542,0.07290646243410781,null],\"type\":\"scatter\"},{\"hoverinfo\":\"text\",\"marker\":{\"color\":[12,6,13,8,12,10,9,11,8,6,12,12,8,14,13,5,3,5,13,5,7,9,7,4,11,11,13,10,6,10,7,12,10,9,4,4,5,8,9,6,8,6,9,8,10,14,12,12,9,8,14,7,11,8,5,13,11,7,5,6,10,14,3,16,1,9,10,10,5,1,11,5,13,5,5,12,7,5,10,8,6,2,7,13,13,13,14,7,17,11,13,10,5,8,5,7,9,2,10,11,10,7,13,11,9,14,13,6,8,11,7,6,6,7,11,13,14,10,10,10,6,10,17,8,9,7,6,7,13,7,16,12,5,8,9,12,6,8,3,9,11,9,10,9,3,11,10,3,7,13,10,7,14,12,5,11,4,10,14,11,14,7,9,13,10,13,9,11,4,10,4,10,7,13,14,13,11,13,7,6,8,11,4,7,13,9,10,10,4,10,8,15,12,9,13,3,12,5,6,10],\"colorbar\":{\"thickness\":15,\"title\":{\"side\":\"right\",\"text\":\"Node Connections\"},\"xanchor\":\"left\"},\"colorscale\":[[0.0,\"rgb(255,255,217)\"],[0.125,\"rgb(237,248,177)\"],[0.25,\"rgb(199,233,180)\"],[0.375,\"rgb(127,205,187)\"],[0.5,\"rgb(65,182,196)\"],[0.625,\"rgb(29,145,192)\"],[0.75,\"rgb(34,94,168)\"],[0.875,\"rgb(37,52,148)\"],[1.0,\"rgb(8,29,88)\"]],\"line\":{\"width\":2},\"reversescale\":true,\"showscale\":true,\"size\":10},\"mode\":\"markers\",\"text\":[\"# of connections: 12\",\"# of connections: 6\",\"# of connections: 13\",\"# of connections: 8\",\"# of connections: 12\",\"# of connections: 10\",\"# of connections: 9\",\"# of connections: 11\",\"# of connections: 8\",\"# of connections: 6\",\"# of connections: 12\",\"# of connections: 12\",\"# of connections: 8\",\"# of connections: 14\",\"# of connections: 13\",\"# of connections: 5\",\"# of connections: 3\",\"# of connections: 5\",\"# of connections: 13\",\"# of connections: 5\",\"# of connections: 7\",\"# of connections: 9\",\"# of connections: 7\",\"# of connections: 4\",\"# of connections: 11\",\"# of connections: 11\",\"# of connections: 13\",\"# of connections: 10\",\"# of connections: 6\",\"# of connections: 10\",\"# of connections: 7\",\"# of connections: 12\",\"# of connections: 10\",\"# of connections: 9\",\"# of connections: 4\",\"# of connections: 4\",\"# of connections: 5\",\"# of connections: 8\",\"# of connections: 9\",\"# of connections: 6\",\"# of connections: 8\",\"# of connections: 6\",\"# of connections: 9\",\"# of connections: 8\",\"# of connections: 10\",\"# of connections: 14\",\"# of connections: 12\",\"# of connections: 12\",\"# of connections: 9\",\"# of connections: 8\",\"# of connections: 14\",\"# of connections: 7\",\"# of connections: 11\",\"# of connections: 8\",\"# of connections: 5\",\"# of connections: 13\",\"# of connections: 11\",\"# of connections: 7\",\"# of connections: 5\",\"# of connections: 6\",\"# of connections: 10\",\"# of connections: 14\",\"# of connections: 3\",\"# of connections: 16\",\"# of connections: 1\",\"# of connections: 9\",\"# of connections: 10\",\"# of connections: 10\",\"# of connections: 5\",\"# of connections: 1\",\"# of connections: 11\",\"# of connections: 5\",\"# of connections: 13\",\"# of connections: 5\",\"# of connections: 5\",\"# of connections: 12\",\"# of connections: 7\",\"# of connections: 5\",\"# of connections: 10\",\"# of connections: 8\",\"# of connections: 6\",\"# of connections: 2\",\"# of connections: 7\",\"# of connections: 13\",\"# of connections: 13\",\"# of connections: 13\",\"# of connections: 14\",\"# of connections: 7\",\"# of connections: 17\",\"# of connections: 11\",\"# of connections: 13\",\"# of connections: 10\",\"# of connections: 5\",\"# of connections: 8\",\"# of connections: 5\",\"# of connections: 7\",\"# of connections: 9\",\"# of connections: 2\",\"# of connections: 10\",\"# of connections: 11\",\"# of connections: 10\",\"# of connections: 7\",\"# of connections: 13\",\"# of connections: 11\",\"# of connections: 9\",\"# of connections: 14\",\"# of connections: 13\",\"# of connections: 6\",\"# of connections: 8\",\"# of connections: 11\",\"# of connections: 7\",\"# of connections: 6\",\"# of connections: 6\",\"# of connections: 7\",\"# of connections: 11\",\"# of connections: 13\",\"# of connections: 14\",\"# of connections: 10\",\"# of connections: 10\",\"# of connections: 10\",\"# of connections: 6\",\"# of connections: 10\",\"# of connections: 17\",\"# of connections: 8\",\"# of connections: 9\",\"# of connections: 7\",\"# of connections: 6\",\"# of connections: 7\",\"# of connections: 13\",\"# of connections: 7\",\"# of connections: 16\",\"# of connections: 12\",\"# of connections: 5\",\"# of connections: 8\",\"# of connections: 9\",\"# of connections: 12\",\"# of connections: 6\",\"# of connections: 8\",\"# of connections: 3\",\"# of connections: 9\",\"# of connections: 11\",\"# of connections: 9\",\"# of connections: 10\",\"# of connections: 9\",\"# of connections: 3\",\"# of connections: 11\",\"# of connections: 10\",\"# of connections: 3\",\"# of connections: 7\",\"# of connections: 13\",\"# of connections: 10\",\"# of connections: 7\",\"# of connections: 14\",\"# of connections: 12\",\"# of connections: 5\",\"# of connections: 11\",\"# of connections: 4\",\"# of connections: 10\",\"# of connections: 14\",\"# of connections: 11\",\"# of connections: 14\",\"# of connections: 7\",\"# of connections: 9\",\"# of connections: 13\",\"# of connections: 10\",\"# of connections: 13\",\"# of connections: 9\",\"# of connections: 11\",\"# of connections: 4\",\"# of connections: 10\",\"# of connections: 4\",\"# of connections: 10\",\"# of connections: 7\",\"# of connections: 13\",\"# of connections: 14\",\"# of connections: 13\",\"# of connections: 11\",\"# of connections: 13\",\"# of connections: 7\",\"# of connections: 6\",\"# of connections: 8\",\"# of connections: 11\",\"# of connections: 4\",\"# of connections: 7\",\"# of connections: 13\",\"# of connections: 9\",\"# of connections: 10\",\"# of connections: 10\",\"# of connections: 4\",\"# of connections: 10\",\"# of connections: 8\",\"# of connections: 15\",\"# of connections: 12\",\"# of connections: 9\",\"# of connections: 13\",\"# of connections: 3\",\"# of connections: 12\",\"# of connections: 5\",\"# of connections: 6\",\"# of connections: 10\"],\"x\":[0.6046964922824576,0.8962375953340884,0.6984529462747742,0.4728355756972884,0.7989576876065841,0.8698663106508973,0.5165005137664226,0.43124087589997195,0.578920540521865,0.6601821488024211,0.17472919017128774,0.23555306864093295,0.3833890555514132,0.9385971965588629,0.6755611786646983,0.6372086257995714,0.306370922798485,0.6722054343519297,0.1589589635267451,0.9949725561563854,0.7723445810084909,0.7302190110350176,0.975529500572008,0.9230968285003445,0.7998852511822941,0.6770585494385171,0.6617209753754294,0.21205275736933216,0.022205042279742182,0.11379981372832348,0.8241351269521909,0.1275055239566768,0.10447118525848076,0.12963726515652052,0.46890996726806955,0.02706518743985553,0.9360161864153677,0.8180294734194627,0.923160904576477,0.8152215818360576,0.8036093171314471,0.9614416214605949,0.41320389211330966,0.22937019975711026,0.9054826523126981,0.21781717013919355,0.5993519074543244,0.7269631469241783,0.3900309557119024,0.7308272666390621,0.6025241700530161,0.04224014111283192,0.15709139648400572,0.21651052084899136,0.38402002854059647,0.6932995279395119,0.3957328007077817,0.8654413288583562,0.4031423192388004,0.47528188220605894,0.5437513924008918,0.1582236993951296,0.9866853063486785,0.9035478145771344,0.4099908784667634,0.1215667068329469,0.47433384623003294,0.2898735314907366,0.6986028666314023,0.013395175522293967,0.09629924374901122,0.8416052776765105,0.10523185275454483,0.8362330124652516,0.8605048946284823,0.9915438864750425,0.9590915793402797,0.019038654312287684,0.8575000024138825,0.2801551214679343,0.7723847640757219,0.330063240221515,0.07183392430391289,0.7651041260565234,0.18111266215632227,0.7362436139625441,0.17876385113042603,0.5264889040111038,0.902602572105231,0.3621484376183073,0.26462363718650983,0.29083482260139026,0.0014328257103323194,0.7910367374444575,0.0025276603056151314,0.6611641671855606,0.9584374698716175,0.9825987767535134,0.11011717905623153,0.6747245118293439,0.25011341770570183,0.6837954028890589,0.20092361039179896,0.10700218283874208,0.09939194725279876,0.2798492646335802,0.9777017067610998,0.21721616996053605,0.01577302908707623,0.6728473393606034,0.1397067507481281,0.8505491285697463,0.4465500162431618,0.0244956028964064,0.3480636114852065,0.06483572890148548,0.9416144726523906,0.8390511986084478,0.10075161179095016,0.3194147225952906,0.4089683820550202,0.1778083357780551,0.9135054230138201,0.4688894802854542,0.07279649120577358,0.6882716836122206,0.17998389116083902,0.1458811437763483,0.739597775860374,0.6791388047817615,0.10847868881372369,0.5696929273032818,0.003579160929737313,0.8536717768090112,0.021356510526583383,0.8966013633762772,0.9982785499916703,0.2687507007172456,0.632599445291796,0.17324773468720966,0.21993784449872134,0.40652472009580887,0.2361962809578979,0.647222431993436,0.6411436531649676,0.15749612146055303,0.7117841877232606,0.5291775952064607,0.1431669876546734,0.6319014921998949,0.34509147208996327,0.010944774553816261,0.27546077838291716,0.05822467472226489,0.5014439547732668,0.8453571362343341,0.5825379601901369,0.7827951660062367,0.8999754588445371,0.7038566783105124,0.9368126170858241,0.47020099688943884,0.7866461737014527,0.0916311591213329,0.866465343984483,0.9484520442410082,0.48538571726298785,0.11989641633677661,0.4773509673360965,0.22860173614133006,0.25473121296631607,0.27092551660948294,0.7635786961057446,0.7549919811123429,0.9007727383596961,0.9752082558035422,0.37951916912448147,0.3400685782746127,0.08165623778378794,0.17638674811738841,0.881497298498418,0.3331164961558588,0.5033581078822806,0.009546929880308364,0.7307320281468533,0.2600105962843374,0.5386364773512996,0.11888725881951445,0.5083198738755778,0.3187679555964734,0.441445841881293,0.2830864026722918,0.9865708038698079,0.05168264246218679,0.6176839181344532,0.8560945868866366,0.6398372711939675,0.9811792333231781,0.4689441380212228,0.3294690594497872],\"y\":[0.13206338227056424,0.1400883913811709,0.853198867518272,0.5777589619470008,0.6863744621338141,0.6846613127998372,0.10846150113457165,0.31206666722373644,0.8753948197263014,0.256675087918821,0.3525467352865247,0.25267912552958816,0.4242185860748404,0.8112417631349821,0.8217170008503681,0.644129486227448,0.05011495849101777,0.4951785735678912,0.2674071762664134,0.38711134748209475,0.2553520534169691,0.3403187218710092,0.4394790544518512,0.08025069449655275,0.8945527129011892,0.10429410299249064,0.7910567457918393,0.4585150608031845,0.3256171543780013,0.9189044416670452,0.417248748531424,0.12117397319633583,0.3721224903289072,0.08605576510924695,0.8019401124385297,0.5606094114941732,0.18207246632831364,0.396468662533182,0.4493151509083253,0.15472005414356005,0.6223146544591149,0.39927440629914346,0.28610267020824254,0.8708650431300592,0.6006493478637261,0.8130215001844282,0.1318675461538522,0.8736077219451726,0.7244478806043951,0.0585580603195035,0.15338238223836542,0.9448813730539657,0.7137088754211804,0.5749958037362465,0.9810120504454115,0.8335425195809806,0.562622394367668,0.4622981845501348,0.9809905295787408,0.2542907191761483,0.12367588427238052,0.18993973573359335,0.5881195962143181,0.7138971476010423,0.020051988802921916,0.7652575870230592,0.6806484547914053,0.6097442264661888,0.5499107185032536,0.6940387731628609,0.8137197356857082,0.2799667660785883,0.1273230257029786,0.031042644425127497,0.2905121013352788,0.797658094193114,0.9420272056942537,0.4920226432876553,0.6852472123599623,0.16638633699315786,0.576079796152717,0.9483681500028751,0.44020005102645576,0.8428384306307246,0.2801961963068069,0.7868633343188038,0.15775674709328613,0.6383584290844584,0.8359524625173449,0.6776150565946925,0.72993131693085,0.4153594358290147,0.266207030748734,0.0768667577559573,0.06899868383828212,0.35375544140157356,0.6496458788096473,0.2589211037594161,0.5425907760023081,0.8386784856191232,0.24045480152008136,0.4686559009328308,0.36906848920195334,0.22551472427035935,0.7543965743867446,0.35756299866446284,0.8031645893593787,0.5397842097996284,0.11612136502215753,0.0728156738055985,0.9585025221133833,0.24499617017585018,0.24032507845041706,0.29016129077247665,0.37620272069566685,0.21759516278485524,0.7249356670962243,0.6443385565205855,0.3567643554582366,0.6352590282705202,0.23331358903470656,0.89132824516459,0.7184625964666408,0.5647453438419185,0.9479477597955411,0.40658543786097434,0.5342486747136697,0.5949072601434926,0.7521430497017503,0.3729112624276608,0.8652559208749917,0.13185122400462224,0.8211360790045819,0.9244736717726737,0.11681613436841753,0.8976676242753269,0.47160608567373685,0.24936223043865824,0.25495490154003897,0.915147570813847,0.7712632510230159,0.36830223469703316,0.7663467803415752,0.7165109564587022,0.9606314706066214,0.754475562721367,0.7189278261816017,0.3536576866968778,0.6566128602296604,0.0665366267069809,0.6498493677974962,0.848009810526465,0.7140916463967529,0.14309306547806122,0.5092907577607841,0.6617793290673275,0.6607620595645517,0.35367408905725173,0.8585924133262385,0.13223871569224144,0.8189699214447705,0.9044056823997777,0.4374145077230933,0.21928731930996903,0.9079766444801124,0.8042984161709225,0.21534669160755948,0.4512052763986564,0.9999790847412505,0.3965660776002923,0.08222814101505638,0.42049444936255864,0.5366870146411503,0.7754621870729101,0.8508675884163955,0.8209848926922901,0.6426177252074016,0.2733611084199207,0.4511195609043003,0.092848755420463,0.509866075867311,0.36935506568605647,0.9858292561825103,0.9193915752249041,0.7977591527781196,0.8356498410852161,0.1284947279397266,0.9281973633109588,0.7861579896137485,0.7715066672310984,0.5646954858532246,0.3500986269113818,0.7826171088003439,0.10604100943090189,0.06572988051718542,0.0164750767467301,0.07290646243410781,0.34453307901786945,0.5448068853035254,0.6661583410631345],\"type\":\"scatter\"}],                        {\"annotations\":[{\"showarrow\":false,\"text\":\"Python code: <a href='https://plotly.com/ipython-notebooks/network-graphs/'> https://plotly.com/ipython-notebooks/network-graphs/</a>\",\"x\":0.005,\"xref\":\"paper\",\"y\":-0.002,\"yref\":\"paper\"}],\"hovermode\":\"closest\",\"margin\":{\"b\":20,\"l\":5,\"r\":5,\"t\":40},\"showlegend\":false,\"title\":{\"font\":{\"size\":16},\"text\":\"<br>Network graph made with Python\"},\"xaxis\":{\"showgrid\":false,\"showticklabels\":false,\"zeroline\":false},\"yaxis\":{\"showgrid\":false,\"showticklabels\":false,\"zeroline\":false},\"template\":{\"data\":{\"bar\":[{\"error_x\":{\"color\":\"#2a3f5f\"},\"error_y\":{\"color\":\"#2a3f5f\"},\"marker\":{\"line\":{\"color\":\"#E5ECF6\",\"width\":0.5},\"pattern\":{\"fillmode\":\"overlay\",\"size\":10,\"solidity\":0.2}},\"type\":\"bar\"}],\"barpolar\":[{\"marker\":{\"line\":{\"color\":\"#E5ECF6\",\"width\":0.5},\"pattern\":{\"fillmode\":\"overlay\",\"size\":10,\"solidity\":0.2}},\"type\":\"barpolar\"}],\"carpet\":[{\"aaxis\":{\"endlinecolor\":\"#2a3f5f\",\"gridcolor\":\"white\",\"linecolor\":\"white\",\"minorgridcolor\":\"white\",\"startlinecolor\":\"#2a3f5f\"},\"baxis\":{\"endlinecolor\":\"#2a3f5f\",\"gridcolor\":\"white\",\"linecolor\":\"white\",\"minorgridcolor\":\"white\",\"startlinecolor\":\"#2a3f5f\"},\"type\":\"carpet\"}],\"choropleth\":[{\"colorbar\":{\"outlinewidth\":0,\"ticks\":\"\"},\"type\":\"choropleth\"}],\"contour\":[{\"colorbar\":{\"outlinewidth\":0,\"ticks\":\"\"},\"colorscale\":[[0.0,\"#0d0887\"],[0.1111111111111111,\"#46039f\"],[0.2222222222222222,\"#7201a8\"],[0.3333333333333333,\"#9c179e\"],[0.4444444444444444,\"#bd3786\"],[0.5555555555555556,\"#d8576b\"],[0.6666666666666666,\"#ed7953\"],[0.7777777777777778,\"#fb9f3a\"],[0.8888888888888888,\"#fdca26\"],[1.0,\"#f0f921\"]],\"type\":\"contour\"}],\"contourcarpet\":[{\"colorbar\":{\"outlinewidth\":0,\"ticks\":\"\"},\"type\":\"contourcarpet\"}],\"heatmap\":[{\"colorbar\":{\"outlinewidth\":0,\"ticks\":\"\"},\"colorscale\":[[0.0,\"#0d0887\"],[0.1111111111111111,\"#46039f\"],[0.2222222222222222,\"#7201a8\"],[0.3333333333333333,\"#9c179e\"],[0.4444444444444444,\"#bd3786\"],[0.5555555555555556,\"#d8576b\"],[0.6666666666666666,\"#ed7953\"],[0.7777777777777778,\"#fb9f3a\"],[0.8888888888888888,\"#fdca26\"],[1.0,\"#f0f921\"]],\"type\":\"heatmap\"}],\"heatmapgl\":[{\"colorbar\":{\"outlinewidth\":0,\"ticks\":\"\"},\"colorscale\":[[0.0,\"#0d0887\"],[0.1111111111111111,\"#46039f\"],[0.2222222222222222,\"#7201a8\"],[0.3333333333333333,\"#9c179e\"],[0.4444444444444444,\"#bd3786\"],[0.5555555555555556,\"#d8576b\"],[0.6666666666666666,\"#ed7953\"],[0.7777777777777778,\"#fb9f3a\"],[0.8888888888888888,\"#fdca26\"],[1.0,\"#f0f921\"]],\"type\":\"heatmapgl\"}],\"histogram\":[{\"marker\":{\"pattern\":{\"fillmode\":\"overlay\",\"size\":10,\"solidity\":0.2}},\"type\":\"histogram\"}],\"histogram2d\":[{\"colorbar\":{\"outlinewidth\":0,\"ticks\":\"\"},\"colorscale\":[[0.0,\"#0d0887\"],[0.1111111111111111,\"#46039f\"],[0.2222222222222222,\"#7201a8\"],[0.3333333333333333,\"#9c179e\"],[0.4444444444444444,\"#bd3786\"],[0.5555555555555556,\"#d8576b\"],[0.6666666666666666,\"#ed7953\"],[0.7777777777777778,\"#fb9f3a\"],[0.8888888888888888,\"#fdca26\"],[1.0,\"#f0f921\"]],\"type\":\"histogram2d\"}],\"histogram2dcontour\":[{\"colorbar\":{\"outlinewidth\":0,\"ticks\":\"\"},\"colorscale\":[[0.0,\"#0d0887\"],[0.1111111111111111,\"#46039f\"],[0.2222222222222222,\"#7201a8\"],[0.3333333333333333,\"#9c179e\"],[0.4444444444444444,\"#bd3786\"],[0.5555555555555556,\"#d8576b\"],[0.6666666666666666,\"#ed7953\"],[0.7777777777777778,\"#fb9f3a\"],[0.8888888888888888,\"#fdca26\"],[1.0,\"#f0f921\"]],\"type\":\"histogram2dcontour\"}],\"mesh3d\":[{\"colorbar\":{\"outlinewidth\":0,\"ticks\":\"\"},\"type\":\"mesh3d\"}],\"parcoords\":[{\"line\":{\"colorbar\":{\"outlinewidth\":0,\"ticks\":\"\"}},\"type\":\"parcoords\"}],\"pie\":[{\"automargin\":true,\"type\":\"pie\"}],\"scatter\":[{\"marker\":{\"colorbar\":{\"outlinewidth\":0,\"ticks\":\"\"}},\"type\":\"scatter\"}],\"scatter3d\":[{\"line\":{\"colorbar\":{\"outlinewidth\":0,\"ticks\":\"\"}},\"marker\":{\"colorbar\":{\"outlinewidth\":0,\"ticks\":\"\"}},\"type\":\"scatter3d\"}],\"scattercarpet\":[{\"marker\":{\"colorbar\":{\"outlinewidth\":0,\"ticks\":\"\"}},\"type\":\"scattercarpet\"}],\"scattergeo\":[{\"marker\":{\"colorbar\":{\"outlinewidth\":0,\"ticks\":\"\"}},\"type\":\"scattergeo\"}],\"scattergl\":[{\"marker\":{\"colorbar\":{\"outlinewidth\":0,\"ticks\":\"\"}},\"type\":\"scattergl\"}],\"scattermapbox\":[{\"marker\":{\"colorbar\":{\"outlinewidth\":0,\"ticks\":\"\"}},\"type\":\"scattermapbox\"}],\"scatterpolar\":[{\"marker\":{\"colorbar\":{\"outlinewidth\":0,\"ticks\":\"\"}},\"type\":\"scatterpolar\"}],\"scatterpolargl\":[{\"marker\":{\"colorbar\":{\"outlinewidth\":0,\"ticks\":\"\"}},\"type\":\"scatterpolargl\"}],\"scatterternary\":[{\"marker\":{\"colorbar\":{\"outlinewidth\":0,\"ticks\":\"\"}},\"type\":\"scatterternary\"}],\"surface\":[{\"colorbar\":{\"outlinewidth\":0,\"ticks\":\"\"},\"colorscale\":[[0.0,\"#0d0887\"],[0.1111111111111111,\"#46039f\"],[0.2222222222222222,\"#7201a8\"],[0.3333333333333333,\"#9c179e\"],[0.4444444444444444,\"#bd3786\"],[0.5555555555555556,\"#d8576b\"],[0.6666666666666666,\"#ed7953\"],[0.7777777777777778,\"#fb9f3a\"],[0.8888888888888888,\"#fdca26\"],[1.0,\"#f0f921\"]],\"type\":\"surface\"}],\"table\":[{\"cells\":{\"fill\":{\"color\":\"#EBF0F8\"},\"line\":{\"color\":\"white\"}},\"header\":{\"fill\":{\"color\":\"#C8D4E3\"},\"line\":{\"color\":\"white\"}},\"type\":\"table\"}]},\"layout\":{\"annotationdefaults\":{\"arrowcolor\":\"#2a3f5f\",\"arrowhead\":0,\"arrowwidth\":1},\"autotypenumbers\":\"strict\",\"coloraxis\":{\"colorbar\":{\"outlinewidth\":0,\"ticks\":\"\"}},\"colorscale\":{\"diverging\":[[0,\"#8e0152\"],[0.1,\"#c51b7d\"],[0.2,\"#de77ae\"],[0.3,\"#f1b6da\"],[0.4,\"#fde0ef\"],[0.5,\"#f7f7f7\"],[0.6,\"#e6f5d0\"],[0.7,\"#b8e186\"],[0.8,\"#7fbc41\"],[0.9,\"#4d9221\"],[1,\"#276419\"]],\"sequential\":[[0.0,\"#0d0887\"],[0.1111111111111111,\"#46039f\"],[0.2222222222222222,\"#7201a8\"],[0.3333333333333333,\"#9c179e\"],[0.4444444444444444,\"#bd3786\"],[0.5555555555555556,\"#d8576b\"],[0.6666666666666666,\"#ed7953\"],[0.7777777777777778,\"#fb9f3a\"],[0.8888888888888888,\"#fdca26\"],[1.0,\"#f0f921\"]],\"sequentialminus\":[[0.0,\"#0d0887\"],[0.1111111111111111,\"#46039f\"],[0.2222222222222222,\"#7201a8\"],[0.3333333333333333,\"#9c179e\"],[0.4444444444444444,\"#bd3786\"],[0.5555555555555556,\"#d8576b\"],[0.6666666666666666,\"#ed7953\"],[0.7777777777777778,\"#fb9f3a\"],[0.8888888888888888,\"#fdca26\"],[1.0,\"#f0f921\"]]},\"colorway\":[\"#636efa\",\"#EF553B\",\"#00cc96\",\"#ab63fa\",\"#FFA15A\",\"#19d3f3\",\"#FF6692\",\"#B6E880\",\"#FF97FF\",\"#FECB52\"],\"font\":{\"color\":\"#2a3f5f\"},\"geo\":{\"bgcolor\":\"white\",\"lakecolor\":\"white\",\"landcolor\":\"#E5ECF6\",\"showlakes\":true,\"showland\":true,\"subunitcolor\":\"white\"},\"hoverlabel\":{\"align\":\"left\"},\"hovermode\":\"closest\",\"mapbox\":{\"style\":\"light\"},\"paper_bgcolor\":\"white\",\"plot_bgcolor\":\"#E5ECF6\",\"polar\":{\"angularaxis\":{\"gridcolor\":\"white\",\"linecolor\":\"white\",\"ticks\":\"\"},\"bgcolor\":\"#E5ECF6\",\"radialaxis\":{\"gridcolor\":\"white\",\"linecolor\":\"white\",\"ticks\":\"\"}},\"scene\":{\"xaxis\":{\"backgroundcolor\":\"#E5ECF6\",\"gridcolor\":\"white\",\"gridwidth\":2,\"linecolor\":\"white\",\"showbackground\":true,\"ticks\":\"\",\"zerolinecolor\":\"white\"},\"yaxis\":{\"backgroundcolor\":\"#E5ECF6\",\"gridcolor\":\"white\",\"gridwidth\":2,\"linecolor\":\"white\",\"showbackground\":true,\"ticks\":\"\",\"zerolinecolor\":\"white\"},\"zaxis\":{\"backgroundcolor\":\"#E5ECF6\",\"gridcolor\":\"white\",\"gridwidth\":2,\"linecolor\":\"white\",\"showbackground\":true,\"ticks\":\"\",\"zerolinecolor\":\"white\"}},\"shapedefaults\":{\"line\":{\"color\":\"#2a3f5f\"}},\"ternary\":{\"aaxis\":{\"gridcolor\":\"white\",\"linecolor\":\"white\",\"ticks\":\"\"},\"baxis\":{\"gridcolor\":\"white\",\"linecolor\":\"white\",\"ticks\":\"\"},\"bgcolor\":\"#E5ECF6\",\"caxis\":{\"gridcolor\":\"white\",\"linecolor\":\"white\",\"ticks\":\"\"}},\"title\":{\"x\":0.05},\"xaxis\":{\"automargin\":true,\"gridcolor\":\"white\",\"linecolor\":\"white\",\"ticks\":\"\",\"title\":{\"standoff\":15},\"zerolinecolor\":\"white\",\"zerolinewidth\":2},\"yaxis\":{\"automargin\":true,\"gridcolor\":\"white\",\"linecolor\":\"white\",\"ticks\":\"\",\"title\":{\"standoff\":15},\"zerolinecolor\":\"white\",\"zerolinewidth\":2}}}},                        {\"responsive\": true}                    ).then(function(){\n",
              "                            \n",
              "var gd = document.getElementById('9c53ee74-6795-44ae-a34b-34a38936b8ff');\n",
              "var x = new MutationObserver(function (mutations, observer) {{\n",
              "        var display = window.getComputedStyle(gd).display;\n",
              "        if (!display || display === 'none') {{\n",
              "            console.log([gd, 'removed!']);\n",
              "            Plotly.purge(gd);\n",
              "            observer.disconnect();\n",
              "        }}\n",
              "}});\n",
              "\n",
              "// Listen for the removal of the full notebook cells\n",
              "var notebookContainer = gd.closest('#notebook-container');\n",
              "if (notebookContainer) {{\n",
              "    x.observe(notebookContainer, {childList: true});\n",
              "}}\n",
              "\n",
              "// Listen for the clearing of the current output cell\n",
              "var outputEl = gd.closest('.output');\n",
              "if (outputEl) {{\n",
              "    x.observe(outputEl, {childList: true});\n",
              "}}\n",
              "\n",
              "                        })                };                            </script>        </div>\n",
              "</body>\n",
              "</html>"
            ]
          },
          "metadata": {}
        }
      ]
    },
    {
      "cell_type": "code",
      "source": [],
      "metadata": {
        "id": "MN2xY8Xybv6O"
      },
      "execution_count": null,
      "outputs": []
    },
    {
      "cell_type": "code",
      "source": [],
      "metadata": {
        "id": "8X3opGBzbv8i"
      },
      "execution_count": null,
      "outputs": []
    },
    {
      "cell_type": "code",
      "source": [],
      "metadata": {
        "id": "Jb64vlIGbv-4"
      },
      "execution_count": null,
      "outputs": []
    },
    {
      "cell_type": "markdown",
      "source": [
        "# New test"
      ],
      "metadata": {
        "id": "B6THTHAYOGRR"
      }
    },
    {
      "cell_type": "code",
      "source": [
        "import networkx as nx\n",
        "import matplotlib.pyplot as plt\n",
        "\n",
        "def draw_graph():\n",
        "    G = nx.Graph()\n",
        "    G.add_nodes_from(['M1', 'M2', 'S1', 'S2', 'S3', 'S4', 'S5', 'D1', 'D2', 'D3', 'D4'])\n",
        "    G.add_edges_from([('M1', 'S1', {'weight': w}), ('M1', 'S2', {'weight': w}), ('M1', 'S3', {'weight': w}), ('M1', 'S4', {'weight': w}), ('M1', 'S5', {'weight': w}), ('M1', 'D1', {'weight': w}), ('M1', 'D2', {'weight': w}), ('M1', 'D3', {'weight': w}), ('M1', 'D4', {'weight': w}), ('M2', 'S1', {'weight': w}), ('M2', 'S2', {'weight': w}), ('M2', 'S3', {'weight': w}), ('M2', 'S4', {'weight': w}), ('M2', 'S5', {'weight': w}), ('M2', 'D1', {'weight': w}), ('M2', 'D2', {'weight': w}), ('M2', 'D3', {'weight': w}), ('M2', 'D4', {'weight': w}), ('S1', 'M1', {'weight': w}), ('S1', 'M2', {'weight': w}), ('S2', 'M1', {'weight': w}), ('S2', 'M2', {'weight': w}), ('S3', 'M1', {'weight': w}), ('S3', 'M2', {'weight': w}), ('S4', 'M1', {'weight': w}), ('S4', 'M2', {'weight': w}), ('S5', 'M1', {'weight': w}), ('S5', 'M2', {'weight': w}), ('D1', 'M1', {'weight': w}), ('D1', 'M2', {'weight': w}), ('D2', 'M1', {'weight': w}), ('D2', 'M2', {'weight': w}), ('D3', 'M1', {'weight': w}), ('D3', 'M2', {'weight': w}), ('D4', 'M1', {'weight': w}), ('D4', 'M2', {'weight': w})])\n",
        "    pos = nx.spring_layout(G)\n",
        "    nx.draw(G, pos, with_labels=True, node_size=1000, font_size=18)\n",
        "    labels = nx.get_edge_attributes(G, 'weight')\n",
        "    nx.draw_networkx_edge_labels(G, pos, edge_labels=labels, font_size=14)\n",
        "    plt.show()\n"
      ],
      "metadata": {
        "id": "3h2Y2OXv88pn"
      },
      "execution_count": 24,
      "outputs": []
    },
    {
      "cell_type": "code",
      "source": [
        "import numpy as np\n",
        "\n",
        "def init_pos():\n",
        "    positions = np.array([[0, 0], [1, 1], [1, -1], [2, 2], [2, 0], [2, -2], [3, 1], [3, -1], [4, 0], [5, 1], [5, -1]])\n",
        "    return positions\n"
      ],
      "metadata": {
        "id": "KcsGCQiwOH-i"
      },
      "execution_count": 25,
      "outputs": []
    },
    {
      "cell_type": "code",
      "source": [
        "def superposition_theorem(positions, weights, forces):\n",
        "    total_force = np.zeros_like(positions)\n",
        "    for i, (pos_i, weight_i) in enumerate(zip(positions, weights)):\n",
        "        for j, (pos_j, weight_j) in enumerate(zip(positions, weights)):\n",
        "            if i == j:\n",
        "                continue\n",
        "            r = pos_j - pos_i\n",
        "            f = forces[i, j] * r / np.linalg.norm(r)\n",
        "            total_force[i] += f * weight_j\n",
        "    return total_force\n"
      ],
      "metadata": {
        "id": "8CL4cNlLOJdn"
      },
      "execution_count": 26,
      "outputs": []
    },
    {
      "cell_type": "code",
      "source": [
        "def force_matrix(positions, weights, forces):\n",
        "    n = positions.shape[0]\n",
        "    F = np.zeros((n, n))\n",
        "    for i, (pos_i, weight_i) in enumerate(zip(positions, weights)):\n",
        "        for j, (pos_j, weight_j) in enumerate(zip(positions, weights)):\n",
        "            if i == j:\n",
        "                continue\n",
        "            r = pos_j - pos_i\n",
        "            f = forces[i, j] * r / np.linalg.norm(r)\n",
        "            F[i, j] = np.linalg.norm(f)\n",
        "    F_simp = F / np.reshape(weights, (n, 1))\n",
        "    return F_simp\n"
      ],
      "metadata": {
        "id": "Yd3-TMSNOLPy"
      },
      "execution_count": 27,
      "outputs": []
    },
    {
      "cell_type": "code",
      "source": [
        "def calc_eig(F_simp):\n",
        "    eigvals, eigvecs = np.linalg.eig(F_simp)\n",
        "    return eigvals, eigvecs\n"
      ],
      "metadata": {
        "id": "6PTnr9d4OM7X"
      },
      "execution_count": 28,
      "outputs": []
    },
    {
      "cell_type": "code",
      "source": [
        "def simulate_network(positions, weights, forces, dt, timesteps):\n",
        "    n = positions.shape[0]\n",
        "    x = np.reshape(positions, (n * 2,))\n",
        "    v = np.zeros_like(x)\n",
        "    k = 1.0  # spring constant\n",
        "    m = np.reshape(weights, (n * 2,))\n",
        "    F_simp = force_matrix(positions, weights, forces)\n",
        "    A = np.diag(1 / m) @ F_simp  # matrix for the second-order differential equation\n",
        "    for i in range(timesteps):\n",
        "        # Calculate the force acting on each node\n",
        "        F = superposition_theorem(np.reshape(x, (n, 2)), weights, forces)\n",
        "        # Convert the force to acceleration\n",
        "        a = np.repeat(np.reshape(F, (n * 2, 1)), 2, axis=1).flatten() @ np.diag(1 / m)\n",
        "        # Update the velocity and position using the Verlet method\n",
        "        x += v * dt + 0.5 * a * dt ** 2\n",
        "        v_half = v + 0.5 * a * dt\n",
        "        F_half = A @ x.reshape((n, 2)).T.flatten()\n",
        "        a_half = np.repeat(np.reshape(F_half, (n * 2, 1)), 2, axis=1).flatten() @ np.diag(1 / m)\n",
        "        v = v_half + 0.5 * a_half * dt\n",
        "    positions = x.reshape((n, 2))\n",
        "    return positions\n"
      ],
      "metadata": {
        "id": "rfyWmJODOOb-"
      },
      "execution_count": 29,
      "outputs": []
    },
    {
      "cell_type": "code",
      "source": [
        "def simulate():\n",
        "    # Define the network\n",
        "    w = 1.0\n",
        "    positions = init_pos()\n",
        "    weights = np.array([10, 10, 5, 5, 5, 5, 5, 5, 5, 5, 5])\n",
        "    forces = np.array([[0, w, w, w, w, w, w, w, w, w, w],\n",
        "                       [w, 0, w, w, w, w, w, w, w, w, w],\n",
        "                       [w, w, 0, 0, 0, 0, 0, 0, 0, 0, 0],\n",
        "                       [w, w, 0, 0, 0, 0, 0, 0, 0, 0, 0],\n",
        "                       [w, w, 0, 0, 0, 0, 0, 0, 0, 0, 0],\n",
        "                       [w, w, 0, 0, 0, 0, 0, 0, 0, 0, 0],\n",
        "                       [w, w, 0, 0, 0, 0, 0, 0, 0, 0, 0],\n",
        "                       [w, w, 0, 0, 0, 0, 0, 0, 0, 0, 0],\n",
        "                       [w, w, 0, 0, 0, 0, 0, 0, 0, 0, 0],\n",
        "                       [w, w, 0, 0, 0, 0, 0, 0, 0, 0, 0],\n",
        "                       [w, w, 0, 0, 0, 0, 0, 0, 0, 0, 0]])\n",
        "    # Simulate the network\n",
        "    dt = 0.01\n",
        "    timesteps = 1000\n",
        "    positions = simulate_network(positions, weights, forces, dt, timesteps)\n",
        "    # Analyze the stability of the network\n",
        "    F_simp = force_matrix(positions, weights, forces)\n",
        "    eigvals, eigvecs = calc_eig(F_simp)\n",
        "    # Print the results\n",
        "    print(\"Positions:\\n\", positions)\n",
        "    print(\"Eigenvalues:\\n\", eigvals)\n",
        "    print(\"Eigenvectors:\\n\", eigvecs)\n"
      ],
      "metadata": {
        "id": "XUxt5bvjOQcM"
      },
      "execution_count": 30,
      "outputs": []
    },
    {
      "cell_type": "code",
      "source": [
        "simulate()"
      ],
      "metadata": {
        "colab": {
          "base_uri": "https://localhost:8080/",
          "height": 353
        },
        "id": "wgX0BlB3OTJx",
        "outputId": "418c8d74-4ffd-440d-c040-73cf44c75e1b"
      },
      "execution_count": 31,
      "outputs": [
        {
          "output_type": "error",
          "ename": "ValueError",
          "evalue": "ignored",
          "traceback": [
            "\u001b[0;31m---------------------------------------------------------------------------\u001b[0m",
            "\u001b[0;31mValueError\u001b[0m                                Traceback (most recent call last)",
            "\u001b[0;32m<ipython-input-31-157e061fb6cd>\u001b[0m in \u001b[0;36m<module>\u001b[0;34m\u001b[0m\n\u001b[0;32m----> 1\u001b[0;31m \u001b[0msimulate\u001b[0m\u001b[0;34m(\u001b[0m\u001b[0;34m)\u001b[0m\u001b[0;34m\u001b[0m\u001b[0;34m\u001b[0m\u001b[0m\n\u001b[0m",
            "\u001b[0;32m<ipython-input-30-d60f89bd13db>\u001b[0m in \u001b[0;36msimulate\u001b[0;34m()\u001b[0m\n\u001b[1;32m     18\u001b[0m     \u001b[0mdt\u001b[0m \u001b[0;34m=\u001b[0m \u001b[0;36m0.01\u001b[0m\u001b[0;34m\u001b[0m\u001b[0;34m\u001b[0m\u001b[0m\n\u001b[1;32m     19\u001b[0m     \u001b[0mtimesteps\u001b[0m \u001b[0;34m=\u001b[0m \u001b[0;36m1000\u001b[0m\u001b[0;34m\u001b[0m\u001b[0;34m\u001b[0m\u001b[0m\n\u001b[0;32m---> 20\u001b[0;31m     \u001b[0mpositions\u001b[0m \u001b[0;34m=\u001b[0m \u001b[0msimulate_network\u001b[0m\u001b[0;34m(\u001b[0m\u001b[0mpositions\u001b[0m\u001b[0;34m,\u001b[0m \u001b[0mweights\u001b[0m\u001b[0;34m,\u001b[0m \u001b[0mforces\u001b[0m\u001b[0;34m,\u001b[0m \u001b[0mdt\u001b[0m\u001b[0;34m,\u001b[0m \u001b[0mtimesteps\u001b[0m\u001b[0;34m)\u001b[0m\u001b[0;34m\u001b[0m\u001b[0;34m\u001b[0m\u001b[0m\n\u001b[0m\u001b[1;32m     21\u001b[0m     \u001b[0;31m# Analyze the stability of the network\u001b[0m\u001b[0;34m\u001b[0m\u001b[0;34m\u001b[0m\u001b[0;34m\u001b[0m\u001b[0m\n\u001b[1;32m     22\u001b[0m     \u001b[0mF_simp\u001b[0m \u001b[0;34m=\u001b[0m \u001b[0mforce_matrix\u001b[0m\u001b[0;34m(\u001b[0m\u001b[0mpositions\u001b[0m\u001b[0;34m,\u001b[0m \u001b[0mweights\u001b[0m\u001b[0;34m,\u001b[0m \u001b[0mforces\u001b[0m\u001b[0;34m)\u001b[0m\u001b[0;34m\u001b[0m\u001b[0;34m\u001b[0m\u001b[0m\n",
            "\u001b[0;32m<ipython-input-29-c22d004bf41c>\u001b[0m in \u001b[0;36msimulate_network\u001b[0;34m(positions, weights, forces, dt, timesteps)\u001b[0m\n\u001b[1;32m      4\u001b[0m     \u001b[0mv\u001b[0m \u001b[0;34m=\u001b[0m \u001b[0mnp\u001b[0m\u001b[0;34m.\u001b[0m\u001b[0mzeros_like\u001b[0m\u001b[0;34m(\u001b[0m\u001b[0mx\u001b[0m\u001b[0;34m)\u001b[0m\u001b[0;34m\u001b[0m\u001b[0;34m\u001b[0m\u001b[0m\n\u001b[1;32m      5\u001b[0m     \u001b[0mk\u001b[0m \u001b[0;34m=\u001b[0m \u001b[0;36m1.0\u001b[0m  \u001b[0;31m# spring constant\u001b[0m\u001b[0;34m\u001b[0m\u001b[0;34m\u001b[0m\u001b[0m\n\u001b[0;32m----> 6\u001b[0;31m     \u001b[0mm\u001b[0m \u001b[0;34m=\u001b[0m \u001b[0mnp\u001b[0m\u001b[0;34m.\u001b[0m\u001b[0mreshape\u001b[0m\u001b[0;34m(\u001b[0m\u001b[0mweights\u001b[0m\u001b[0;34m,\u001b[0m \u001b[0;34m(\u001b[0m\u001b[0mn\u001b[0m \u001b[0;34m*\u001b[0m \u001b[0;36m2\u001b[0m\u001b[0;34m,\u001b[0m\u001b[0;34m)\u001b[0m\u001b[0;34m)\u001b[0m\u001b[0;34m\u001b[0m\u001b[0;34m\u001b[0m\u001b[0m\n\u001b[0m\u001b[1;32m      7\u001b[0m     \u001b[0mF_simp\u001b[0m \u001b[0;34m=\u001b[0m \u001b[0mforce_matrix\u001b[0m\u001b[0;34m(\u001b[0m\u001b[0mpositions\u001b[0m\u001b[0;34m,\u001b[0m \u001b[0mweights\u001b[0m\u001b[0;34m,\u001b[0m \u001b[0mforces\u001b[0m\u001b[0;34m)\u001b[0m\u001b[0;34m\u001b[0m\u001b[0;34m\u001b[0m\u001b[0m\n\u001b[1;32m      8\u001b[0m     \u001b[0mA\u001b[0m \u001b[0;34m=\u001b[0m \u001b[0mnp\u001b[0m\u001b[0;34m.\u001b[0m\u001b[0mdiag\u001b[0m\u001b[0;34m(\u001b[0m\u001b[0;36m1\u001b[0m \u001b[0;34m/\u001b[0m \u001b[0mm\u001b[0m\u001b[0;34m)\u001b[0m \u001b[0;34m@\u001b[0m \u001b[0mF_simp\u001b[0m  \u001b[0;31m# matrix for the second-order differential equation\u001b[0m\u001b[0;34m\u001b[0m\u001b[0;34m\u001b[0m\u001b[0m\n",
            "\u001b[0;32m<__array_function__ internals>\u001b[0m in \u001b[0;36mreshape\u001b[0;34m(*args, **kwargs)\u001b[0m\n",
            "\u001b[0;32m/usr/local/lib/python3.8/dist-packages/numpy/core/fromnumeric.py\u001b[0m in \u001b[0;36mreshape\u001b[0;34m(a, newshape, order)\u001b[0m\n\u001b[1;32m    296\u001b[0m            [5, 6]])\n\u001b[1;32m    297\u001b[0m     \"\"\"\n\u001b[0;32m--> 298\u001b[0;31m     \u001b[0;32mreturn\u001b[0m \u001b[0m_wrapfunc\u001b[0m\u001b[0;34m(\u001b[0m\u001b[0ma\u001b[0m\u001b[0;34m,\u001b[0m \u001b[0;34m'reshape'\u001b[0m\u001b[0;34m,\u001b[0m \u001b[0mnewshape\u001b[0m\u001b[0;34m,\u001b[0m \u001b[0morder\u001b[0m\u001b[0;34m=\u001b[0m\u001b[0morder\u001b[0m\u001b[0;34m)\u001b[0m\u001b[0;34m\u001b[0m\u001b[0;34m\u001b[0m\u001b[0m\n\u001b[0m\u001b[1;32m    299\u001b[0m \u001b[0;34m\u001b[0m\u001b[0m\n\u001b[1;32m    300\u001b[0m \u001b[0;34m\u001b[0m\u001b[0m\n",
            "\u001b[0;32m/usr/local/lib/python3.8/dist-packages/numpy/core/fromnumeric.py\u001b[0m in \u001b[0;36m_wrapfunc\u001b[0;34m(obj, method, *args, **kwds)\u001b[0m\n\u001b[1;32m     55\u001b[0m \u001b[0;34m\u001b[0m\u001b[0m\n\u001b[1;32m     56\u001b[0m     \u001b[0;32mtry\u001b[0m\u001b[0;34m:\u001b[0m\u001b[0;34m\u001b[0m\u001b[0;34m\u001b[0m\u001b[0m\n\u001b[0;32m---> 57\u001b[0;31m         \u001b[0;32mreturn\u001b[0m \u001b[0mbound\u001b[0m\u001b[0;34m(\u001b[0m\u001b[0;34m*\u001b[0m\u001b[0margs\u001b[0m\u001b[0;34m,\u001b[0m \u001b[0;34m**\u001b[0m\u001b[0mkwds\u001b[0m\u001b[0;34m)\u001b[0m\u001b[0;34m\u001b[0m\u001b[0;34m\u001b[0m\u001b[0m\n\u001b[0m\u001b[1;32m     58\u001b[0m     \u001b[0;32mexcept\u001b[0m \u001b[0mTypeError\u001b[0m\u001b[0;34m:\u001b[0m\u001b[0;34m\u001b[0m\u001b[0;34m\u001b[0m\u001b[0m\n\u001b[1;32m     59\u001b[0m         \u001b[0;31m# A TypeError occurs if the object does have such a method in its\u001b[0m\u001b[0;34m\u001b[0m\u001b[0;34m\u001b[0m\u001b[0;34m\u001b[0m\u001b[0m\n",
            "\u001b[0;31mValueError\u001b[0m: cannot reshape array of size 11 into shape (22,)"
          ]
        }
      ]
    },
    {
      "cell_type": "code",
      "source": [],
      "metadata": {
        "id": "sB-dq242PD46"
      },
      "execution_count": null,
      "outputs": []
    }
  ]
}